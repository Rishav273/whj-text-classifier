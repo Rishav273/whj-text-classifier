{
  "nbformat": 4,
  "nbformat_minor": 0,
  "metadata": {
    "colab": {
      "name": "Whitehat R3 task.ipynb",
      "provenance": [],
      "collapsed_sections": [],
      "mount_file_id": "1KJ46KKcJ8NxR9jaTIxT1jwlrbBweJjgL",
      "authorship_tag": "ABX9TyOQMeTkLVsnPt87nKRx7iIK",
      "include_colab_link": true
    },
    "kernelspec": {
      "name": "python3",
      "display_name": "Python 3"
    },
    "language_info": {
      "name": "python"
    }
  },
  "cells": [
    {
      "cell_type": "markdown",
      "metadata": {
        "id": "view-in-github",
        "colab_type": "text"
      },
      "source": [
        "<a href=\"https://colab.research.google.com/github/Rishav273/whj-text-classifier/blob/main/Whitehat_R3_task.ipynb\" target=\"_parent\"><img src=\"https://colab.research.google.com/assets/colab-badge.svg\" alt=\"Open In Colab\"/></a>"
      ]
    },
    {
      "cell_type": "code",
      "metadata": {
        "id": "8TKfDgNUISMg"
      },
      "source": [
        ""
      ],
      "execution_count": null,
      "outputs": []
    },
    {
      "cell_type": "code",
      "metadata": {
        "id": "97WPvABBc_x3",
        "colab": {
          "base_uri": "https://localhost:8080/"
        },
        "outputId": "43e8edcf-68d2-4a69-971b-578c45913f45"
      },
      "source": [
        "from google.colab import drive\n",
        "drive.mount('/content/drive')"
      ],
      "execution_count": 1,
      "outputs": [
        {
          "output_type": "stream",
          "name": "stdout",
          "text": [
            "Drive already mounted at /content/drive; to attempt to forcibly remount, call drive.mount(\"/content/drive\", force_remount=True).\n"
          ]
        }
      ]
    },
    {
      "cell_type": "markdown",
      "metadata": {
        "id": "hFf0bcEd5FHl"
      },
      "source": [
        "## Machine Learning:\n",
        "\n",
        "#### Machine Learning is a form of artificial intelligence where algorithms are trained on lots of data to answer some question or provide some response. At the heart of machine learning lies the fundamental prblem of \"prediction\", i.e. predicting some value based on data provided to the algorithm/model as inputs.\n",
        "\n",
        "#### Predictive problems are mainly 2 fold. \n",
        "\n",
        "* regression problems - > These are problems where the machine learning model predicts a continuous value as its response. eg: Car price, people's height,weight etc.\n",
        "\n",
        "* classification problems -> In these problems the model predict classes or categories, which are denoted by discrete values. eg: whether a child wants to play cricket or doesn't (denoted by the discrete values of 0 and 1 respectively). There can be more than 2 categories as well, eg: the weather is sunny, rainy or snowy.\n",
        "\n",
        "#### In this notebook we will explore a binary classsification machine learning problem, which means that the model that we build takes in some data as input and outputs either of \"two\"  categories. Obviously, to create a model, we require data. MOre information abt the dataset is provided below.  \n",
        "\n"
      ]
    },
    {
      "cell_type": "markdown",
      "metadata": {
        "id": "QtykMMT2dEyr"
      },
      "source": [
        "## Gender Classification task:\n",
        "\n",
        "In this notebook we are going to explore datasets that contain information about hollywood movies and metainformation about the corresponding characters in the movie. \n",
        "The usecase is to build an gender classifier model that takes in movie dialogues as input and predicts whether the dialogue was spoken by a male or female.  \n",
        "\n",
        "## More information about the dataset:\n",
        "This corpus contains a metadata-rich collection of fictional conversations extracted from raw movie scripts:\n",
        "\n",
        "220,579 conversational exchanges between 10,292 pairs of movie characters\n",
        "involves 9,035 characters from 617 movies\n",
        "in total 304,713 utterances\n",
        "movie metadata included:\n",
        "* genres\n",
        "* release year\n",
        "* IMDB rating\n",
        "* number of IMDB votes\n",
        "* IMDB rating\n",
        "\n",
        "moviecharactersmetadata.txt\n",
        "\n",
        "contains information about each movie character\n",
        "fields:\n",
        "* characterID\n",
        "* character name\n",
        "* movieID\n",
        "* movie title\n",
        "* gender (\"?\" for unlabeled cases)\n",
        "* position in credits (\"?\" for unlabeled cases)\n",
        "\n",
        "movie_lines.txt\n",
        "fields:\n",
        "* lineID\n",
        "* characterID (who uttered this phrase)\n",
        "* movieID\n",
        "* character name\n",
        "* text of the utterance\n",
        "\n",
        "movie_conversations.txt\n",
        "\n",
        "the structure of the conversations\n",
        "fields\n",
        "* characterID of the first character involved in the\n",
        "conversation\n",
        "* characterID of the second character involved in the conversation\n",
        "* movieID of the movie in which the conversation occurred\n",
        "* list of the utterances that make the conversation, in chronological\n",
        "order: ['lineID1','lineID2',É,'lineIDN']\n",
        "has to be matched with movie_lines.txt to reconstruct the actual content\n",
        "\n",
        "rawscripturls.txt\n",
        "\n",
        "the urls from which the raw sources were retrieved"
      ]
    },
    {
      "cell_type": "markdown",
      "metadata": {
        "id": "_pbBPTC3hDD-"
      },
      "source": [
        "### let us unzip the dataset we will use. It is kept in my own google drive and hence I'll be providing the path to the dataset. We will unzip using the !unzip command. \"!\" command denotes shell commands in colab. "
      ]
    },
    {
      "cell_type": "code",
      "metadata": {
        "colab": {
          "base_uri": "https://localhost:8080/"
        },
        "id": "Zh-lNtcVdDUF",
        "outputId": "db06e870-cfe1-43c5-877f-46375252c3e8"
      },
      "source": [
        "# Let us unzip the dataset we will use.\n",
        "\n",
        "!unzip /content/drive/MyDrive/movie_dialogue_dataset.zip"
      ],
      "execution_count": 2,
      "outputs": [
        {
          "output_type": "stream",
          "name": "stdout",
          "text": [
            "Archive:  /content/drive/MyDrive/movie_dialogue_dataset.zip\n",
            "  inflating: README.txt              \n",
            "  inflating: movie_characters_metadata.tsv  \n",
            "  inflating: movie_conversations.tsv  \n",
            "  inflating: movie_lines.tsv         \n",
            "  inflating: movie_titles_metadata.tsv  \n",
            "  inflating: raw_script_urls.tsv     \n"
          ]
        }
      ]
    },
    {
      "cell_type": "markdown",
      "metadata": {
        "id": "rT-rp4qCh0dh"
      },
      "source": [
        "#### let us examine each of the datasets in further detail. We will be importing the required python modules for this usecase below.\n",
        "\n",
        "#### We will use pandas for analysing our data, through pandas Dataframe objects. Matplotlib and seaborn will be used as visualisation tools. NLTK will be our text preprocessing library.  We will also import Scikit-learn package for using machine learning models.   "
      ]
    },
    {
      "cell_type": "code",
      "metadata": {
        "id": "SG5Q5UKig_PR"
      },
      "source": [
        "import numpy as np  # library for scientific computing\n",
        "import pandas as pd # we will use pandas for analysing our data.\n",
        "import matplotlib.pyplot as plt # matplotlib is a data visualization package \n",
        "import seaborn as sns # seaborn is a data visualisation library built on top of matplotlib\n",
        "from nltk.stem import WordNetLemmatizer   # nltk is a library used for text processing\n",
        "import re   # regular expressions module ffor filtering out unneeded textstrings"
      ],
      "execution_count": 3,
      "outputs": []
    },
    {
      "cell_type": "markdown",
      "metadata": {
        "id": "55WgxLPRjmR4"
      },
      "source": [
        "#### note: All the files are in tsv (tab separated value) format. hence we will use the pandas read_csv() method and use '\\t' (denoting tabs) as separator argument for the files.\n",
        "#### Also, the data contains certain rows where the schema is not followed (incorrect number of columns in a certain row).\n",
        "\n",
        "#### We will set the \"error_bad_lines\" argument in the read_csv function to false, which will skip those lines.  \n",
        "\n",
        "#### We load each of the files into their corresponding variables below. "
      ]
    },
    {
      "cell_type": "code",
      "metadata": {
        "id": "vS-1J-Y9ivmQ"
      },
      "source": [
        "def read_data(data_path, names, sep = \"\\t\"):\n",
        "\n",
        "  \"\"\"\n",
        "  This function takes in a data path as input and outputs a pandas dataframe. \n",
        "  \"\"\"\n",
        "\n",
        "  df = pd.read_csv(data_path,names=names,sep=sep,error_bad_lines=False, header=None)\n",
        "  return df"
      ],
      "execution_count": 4,
      "outputs": []
    },
    {
      "cell_type": "code",
      "metadata": {
        "id": "0m1MEVNHk_Yc"
      },
      "source": [
        "# store the paths of each file to a variable. We don't need to copy paste the paths everytime.  \n",
        "char_path = \"/content/movie_characters_metadata.tsv\"\n",
        "conv_path = \"/content/movie_conversations.tsv\"\n",
        "lines_path = \"/content/movie_lines.tsv\"\n",
        "titles_path = \"/content/movie_titles_metadata.tsv\"\n",
        "script_path = \"/content/raw_script_urls.tsv\"\n",
        "\n",
        "char_df = read_data(char_path,names=['char_id','char_name','movie_id','movie_name','gender','post_credits'])  # characters dataset\n",
        "conv_df = read_data(conv_path,names=['char1_id','char2_id','movie_id','utterances'])  # conversations dataset\n",
        "lines_df = read_data(lines_path,names=['line_id','char_id','movie_id','char_name','dialogue'])   # lines dataset\n",
        "titles_df = read_data(titles_path,names=['movie_id','movie_name','release_year','rating','votes','genre'])  # movie titles dataset"
      ],
      "execution_count": 5,
      "outputs": []
    },
    {
      "cell_type": "markdown",
      "metadata": {
        "id": "96avvYTnuY5Q"
      },
      "source": [
        "### Let us now look at each of the loaded dataframes in detail.\n",
        "\n",
        "#### We notice that the common column (a.k.a primary key) in all these dataframes is the movie_id. There is also the char_id which is unique for each character. These will come in handy after we inspect the dataframes, when we will merge them for our usecase. "
      ]
    },
    {
      "cell_type": "code",
      "metadata": {
        "colab": {
          "base_uri": "https://localhost:8080/"
        },
        "id": "sXvp-4Ft59cl",
        "outputId": "2dc271cd-8081-49bb-faef-20c67afdc9c0"
      },
      "source": [
        "dataframes = [char_df,conv_df,lines_df,titles_df]   # create list of the dataframes. \n",
        "\n",
        "for dataframe in dataframes:    # iterate over the list and print the column names of each dataframe in the list \n",
        "  print(dataframe.columns,sep=\"\\n\") # printing columns of each dataframe on a new line "
      ],
      "execution_count": 6,
      "outputs": [
        {
          "output_type": "stream",
          "name": "stdout",
          "text": [
            "Index(['char_id', 'char_name', 'movie_id', 'movie_name', 'gender',\n",
            "       'post_credits'],\n",
            "      dtype='object')\n",
            "Index(['char1_id', 'char2_id', 'movie_id', 'utterances'], dtype='object')\n",
            "Index(['line_id', 'char_id', 'movie_id', 'char_name', 'dialogue'], dtype='object')\n",
            "Index(['movie_id', 'movie_name', 'release_year', 'rating', 'votes', 'genre'], dtype='object')\n"
          ]
        }
      ]
    },
    {
      "cell_type": "markdown",
      "metadata": {
        "id": "kESAbhjquxc7"
      },
      "source": [
        "# We will use the head(n) method to display the first \"n\" rows of the dataset. This helps us get a better idea about the items we need to work with."
      ]
    },
    {
      "cell_type": "code",
      "metadata": {
        "colab": {
          "base_uri": "https://localhost:8080/",
          "height": 142
        },
        "id": "VuVB6JsImZM1",
        "outputId": "2ede03f3-fc26-4161-8f2f-d0d5f7127f6c"
      },
      "source": [
        "# using the head(n) method to inspect the first n rows of the dataset \n",
        "char_df.head(3)"
      ],
      "execution_count": 7,
      "outputs": [
        {
          "output_type": "execute_result",
          "data": {
            "text/html": [
              "<div>\n",
              "<style scoped>\n",
              "    .dataframe tbody tr th:only-of-type {\n",
              "        vertical-align: middle;\n",
              "    }\n",
              "\n",
              "    .dataframe tbody tr th {\n",
              "        vertical-align: top;\n",
              "    }\n",
              "\n",
              "    .dataframe thead th {\n",
              "        text-align: right;\n",
              "    }\n",
              "</style>\n",
              "<table border=\"1\" class=\"dataframe\">\n",
              "  <thead>\n",
              "    <tr style=\"text-align: right;\">\n",
              "      <th></th>\n",
              "      <th>char_id</th>\n",
              "      <th>char_name</th>\n",
              "      <th>movie_id</th>\n",
              "      <th>movie_name</th>\n",
              "      <th>gender</th>\n",
              "      <th>post_credits</th>\n",
              "    </tr>\n",
              "  </thead>\n",
              "  <tbody>\n",
              "    <tr>\n",
              "      <th>0</th>\n",
              "      <td>u0</td>\n",
              "      <td>BIANCA</td>\n",
              "      <td>m0</td>\n",
              "      <td>10 things i hate about you</td>\n",
              "      <td>f</td>\n",
              "      <td>4</td>\n",
              "    </tr>\n",
              "    <tr>\n",
              "      <th>1</th>\n",
              "      <td>u1</td>\n",
              "      <td>BRUCE</td>\n",
              "      <td>m0</td>\n",
              "      <td>10 things i hate about you</td>\n",
              "      <td>?</td>\n",
              "      <td>?</td>\n",
              "    </tr>\n",
              "    <tr>\n",
              "      <th>2</th>\n",
              "      <td>u2</td>\n",
              "      <td>CAMERON</td>\n",
              "      <td>m0</td>\n",
              "      <td>10 things i hate about you</td>\n",
              "      <td>m</td>\n",
              "      <td>3</td>\n",
              "    </tr>\n",
              "  </tbody>\n",
              "</table>\n",
              "</div>"
            ],
            "text/plain": [
              "  char_id char_name movie_id                  movie_name gender post_credits\n",
              "0      u0    BIANCA       m0  10 things i hate about you      f            4\n",
              "1      u1     BRUCE       m0  10 things i hate about you      ?            ?\n",
              "2      u2   CAMERON       m0  10 things i hate about you      m            3"
            ]
          },
          "metadata": {},
          "execution_count": 7
        }
      ]
    },
    {
      "cell_type": "code",
      "metadata": {
        "colab": {
          "base_uri": "https://localhost:8080/",
          "height": 142
        },
        "id": "gzwEywga54h0",
        "outputId": "c37f2a7f-9eaf-4145-b88e-6fdb23db5898"
      },
      "source": [
        "lines_df.head(3)"
      ],
      "execution_count": 8,
      "outputs": [
        {
          "output_type": "execute_result",
          "data": {
            "text/html": [
              "<div>\n",
              "<style scoped>\n",
              "    .dataframe tbody tr th:only-of-type {\n",
              "        vertical-align: middle;\n",
              "    }\n",
              "\n",
              "    .dataframe tbody tr th {\n",
              "        vertical-align: top;\n",
              "    }\n",
              "\n",
              "    .dataframe thead th {\n",
              "        text-align: right;\n",
              "    }\n",
              "</style>\n",
              "<table border=\"1\" class=\"dataframe\">\n",
              "  <thead>\n",
              "    <tr style=\"text-align: right;\">\n",
              "      <th></th>\n",
              "      <th>line_id</th>\n",
              "      <th>char_id</th>\n",
              "      <th>movie_id</th>\n",
              "      <th>char_name</th>\n",
              "      <th>dialogue</th>\n",
              "    </tr>\n",
              "  </thead>\n",
              "  <tbody>\n",
              "    <tr>\n",
              "      <th>0</th>\n",
              "      <td>L1045</td>\n",
              "      <td>u0</td>\n",
              "      <td>m0</td>\n",
              "      <td>BIANCA</td>\n",
              "      <td>They do not!</td>\n",
              "    </tr>\n",
              "    <tr>\n",
              "      <th>1</th>\n",
              "      <td>L1044</td>\n",
              "      <td>u2</td>\n",
              "      <td>m0</td>\n",
              "      <td>CAMERON</td>\n",
              "      <td>They do to!</td>\n",
              "    </tr>\n",
              "    <tr>\n",
              "      <th>2</th>\n",
              "      <td>L985</td>\n",
              "      <td>u0</td>\n",
              "      <td>m0</td>\n",
              "      <td>BIANCA</td>\n",
              "      <td>I hope so.</td>\n",
              "    </tr>\n",
              "  </tbody>\n",
              "</table>\n",
              "</div>"
            ],
            "text/plain": [
              "  line_id char_id movie_id char_name      dialogue\n",
              "0   L1045      u0       m0    BIANCA  They do not!\n",
              "1   L1044      u2       m0   CAMERON   They do to!\n",
              "2    L985      u0       m0    BIANCA    I hope so."
            ]
          },
          "metadata": {},
          "execution_count": 8
        }
      ]
    },
    {
      "cell_type": "code",
      "metadata": {
        "colab": {
          "base_uri": "https://localhost:8080/",
          "height": 142
        },
        "id": "Dx_ceC158Sr1",
        "outputId": "922b8859-089e-4aa4-fac7-4cea5d8aedf2"
      },
      "source": [
        "titles_df.head(3)"
      ],
      "execution_count": 9,
      "outputs": [
        {
          "output_type": "execute_result",
          "data": {
            "text/html": [
              "<div>\n",
              "<style scoped>\n",
              "    .dataframe tbody tr th:only-of-type {\n",
              "        vertical-align: middle;\n",
              "    }\n",
              "\n",
              "    .dataframe tbody tr th {\n",
              "        vertical-align: top;\n",
              "    }\n",
              "\n",
              "    .dataframe thead th {\n",
              "        text-align: right;\n",
              "    }\n",
              "</style>\n",
              "<table border=\"1\" class=\"dataframe\">\n",
              "  <thead>\n",
              "    <tr style=\"text-align: right;\">\n",
              "      <th></th>\n",
              "      <th>movie_id</th>\n",
              "      <th>movie_name</th>\n",
              "      <th>release_year</th>\n",
              "      <th>rating</th>\n",
              "      <th>votes</th>\n",
              "      <th>genre</th>\n",
              "    </tr>\n",
              "  </thead>\n",
              "  <tbody>\n",
              "    <tr>\n",
              "      <th>0</th>\n",
              "      <td>m0</td>\n",
              "      <td>10 things i hate about you</td>\n",
              "      <td>1999</td>\n",
              "      <td>6.9</td>\n",
              "      <td>62847.0</td>\n",
              "      <td>['comedy' 'romance']</td>\n",
              "    </tr>\n",
              "    <tr>\n",
              "      <th>1</th>\n",
              "      <td>m1</td>\n",
              "      <td>1492: conquest of paradise</td>\n",
              "      <td>1992</td>\n",
              "      <td>6.2</td>\n",
              "      <td>10421.0</td>\n",
              "      <td>['adventure' 'biography' 'drama' 'history']</td>\n",
              "    </tr>\n",
              "    <tr>\n",
              "      <th>2</th>\n",
              "      <td>m2</td>\n",
              "      <td>15 minutes</td>\n",
              "      <td>2001</td>\n",
              "      <td>6.1</td>\n",
              "      <td>25854.0</td>\n",
              "      <td>['action' 'crime' 'drama' 'thriller']</td>\n",
              "    </tr>\n",
              "  </tbody>\n",
              "</table>\n",
              "</div>"
            ],
            "text/plain": [
              "  movie_id  ...                                        genre\n",
              "0       m0  ...                         ['comedy' 'romance']\n",
              "1       m1  ...  ['adventure' 'biography' 'drama' 'history']\n",
              "2       m2  ...        ['action' 'crime' 'drama' 'thriller']\n",
              "\n",
              "[3 rows x 6 columns]"
            ]
          },
          "metadata": {},
          "execution_count": 9
        }
      ]
    },
    {
      "cell_type": "markdown",
      "metadata": {
        "id": "hpwHrq6Z-f1I"
      },
      "source": [
        "##### We observe that lines_df contains the dialogues and char_df contains info about character names and genders. We also have titles_df which contains info about movie ratings, votes and genre. Hence the info we need for our usecase is constrained in lines_df and char_df dataframes. We will examine these in more detail."
      ]
    },
    {
      "cell_type": "code",
      "metadata": {
        "colab": {
          "base_uri": "https://localhost:8080/",
          "height": 142
        },
        "id": "MuZobSIl8KoZ",
        "outputId": "4a6c8dc2-11e2-4dc9-c875-65e49f6dbb55"
      },
      "source": [
        "conv_df.head(3)"
      ],
      "execution_count": 10,
      "outputs": [
        {
          "output_type": "execute_result",
          "data": {
            "text/html": [
              "<div>\n",
              "<style scoped>\n",
              "    .dataframe tbody tr th:only-of-type {\n",
              "        vertical-align: middle;\n",
              "    }\n",
              "\n",
              "    .dataframe tbody tr th {\n",
              "        vertical-align: top;\n",
              "    }\n",
              "\n",
              "    .dataframe thead th {\n",
              "        text-align: right;\n",
              "    }\n",
              "</style>\n",
              "<table border=\"1\" class=\"dataframe\">\n",
              "  <thead>\n",
              "    <tr style=\"text-align: right;\">\n",
              "      <th></th>\n",
              "      <th>char1_id</th>\n",
              "      <th>char2_id</th>\n",
              "      <th>movie_id</th>\n",
              "      <th>utterances</th>\n",
              "    </tr>\n",
              "  </thead>\n",
              "  <tbody>\n",
              "    <tr>\n",
              "      <th>0</th>\n",
              "      <td>u0</td>\n",
              "      <td>u2</td>\n",
              "      <td>m0</td>\n",
              "      <td>['L194' 'L195' 'L196' 'L197']</td>\n",
              "    </tr>\n",
              "    <tr>\n",
              "      <th>1</th>\n",
              "      <td>u0</td>\n",
              "      <td>u2</td>\n",
              "      <td>m0</td>\n",
              "      <td>['L198' 'L199']</td>\n",
              "    </tr>\n",
              "    <tr>\n",
              "      <th>2</th>\n",
              "      <td>u0</td>\n",
              "      <td>u2</td>\n",
              "      <td>m0</td>\n",
              "      <td>['L200' 'L201' 'L202' 'L203']</td>\n",
              "    </tr>\n",
              "  </tbody>\n",
              "</table>\n",
              "</div>"
            ],
            "text/plain": [
              "  char1_id char2_id movie_id                     utterances\n",
              "0       u0       u2       m0  ['L194' 'L195' 'L196' 'L197']\n",
              "1       u0       u2       m0                ['L198' 'L199']\n",
              "2       u0       u2       m0  ['L200' 'L201' 'L202' 'L203']"
            ]
          },
          "metadata": {},
          "execution_count": 10
        }
      ]
    },
    {
      "cell_type": "markdown",
      "metadata": {
        "id": "KU63VbhQEF2R"
      },
      "source": [
        "#### We can use the info() method to show us a concise summary of the data with the number of rows, column and the data type of each column (Dtype). We also find out how many null values are contained in each column in the non null count section.   "
      ]
    },
    {
      "cell_type": "code",
      "metadata": {
        "colab": {
          "base_uri": "https://localhost:8080/"
        },
        "id": "zpCIKrnepMF4",
        "outputId": "0d406cfc-7465-41ac-9b2e-e77675e2d372"
      },
      "source": [
        "char_df.info()"
      ],
      "execution_count": 11,
      "outputs": [
        {
          "output_type": "stream",
          "name": "stdout",
          "text": [
            "<class 'pandas.core.frame.DataFrame'>\n",
            "RangeIndex: 9035 entries, 0 to 9034\n",
            "Data columns (total 6 columns):\n",
            " #   Column        Non-Null Count  Dtype \n",
            "---  ------        --------------  ----- \n",
            " 0   char_id       9035 non-null   object\n",
            " 1   char_name     9016 non-null   object\n",
            " 2   movie_id      9017 non-null   object\n",
            " 3   movie_name    9017 non-null   object\n",
            " 4   gender        9017 non-null   object\n",
            " 5   post_credits  9017 non-null   object\n",
            "dtypes: object(6)\n",
            "memory usage: 423.6+ KB\n"
          ]
        }
      ]
    },
    {
      "cell_type": "markdown",
      "metadata": {
        "id": "rihcsRYeEgDl"
      },
      "source": [
        "#### The char_df dataframe contains the gender column which we will be using. It would be a good idea to look at the frequency of unique values in that column. We do this by using the value_counts() method which shows us those details. Any column i a dataframe is chosen by the df_name[column_name] code. In our case it is char_df[\"gender\"]. Then the value_counts() method is used on it."
      ]
    },
    {
      "cell_type": "code",
      "metadata": {
        "colab": {
          "base_uri": "https://localhost:8080/"
        },
        "id": "5oFrnPIY3vTs",
        "outputId": "ba4613a4-1bed-4f1c-fd73-61c74a821dbe"
      },
      "source": [
        "char_df[\"gender\"].value_counts()"
      ],
      "execution_count": 12,
      "outputs": [
        {
          "output_type": "execute_result",
          "data": {
            "text/plain": [
              "?    6008\n",
              "m    1899\n",
              "f     921\n",
              "M     145\n",
              "F      44\n",
              "Name: gender, dtype: int64"
            ]
          },
          "metadata": {},
          "execution_count": 12
        }
      ]
    },
    {
      "cell_type": "markdown",
      "metadata": {
        "id": "CwiKicZgE0wg"
      },
      "source": [
        "#### As we can see, there is a large proportion of the messages with the value \"?\". There are other values which can be aggregated together like \"m\" and \"M\", \"f\" and \"F\" can be considered as one group. NOrmally, these rows needed to be imputed manually by looking at the corresponding character names and imputing them. \n",
        "\n",
        "#### Imputation just means \"filling unwanted values with meaningful values\". There are many approaches to do this such as using the mode (most frequent value) of the column to impute, or even using a distance based algorithm like KNN for imputation. But for our usecase none of those will be meaningful changes.  \n",
        "\n",
        "#### We can check the corresponding character names using the code below. THis is a filtering step in pandas, where we only select rows where gender (or any ther column) has some specific value (in this case \"?\")."
      ]
    },
    {
      "cell_type": "code",
      "metadata": {
        "colab": {
          "base_uri": "https://localhost:8080/"
        },
        "id": "eg9xWsUOvh1I",
        "outputId": "c321bc77-50d6-4b0c-d4fa-5c241e10ab9b"
      },
      "source": [
        "char_df[char_df[\"gender\"] == \"?\"][\"char_name\"]"
      ],
      "execution_count": 13,
      "outputs": [
        {
          "output_type": "execute_result",
          "data": {
            "text/plain": [
              "1               BRUCE\n",
              "3            CHASTITY\n",
              "8          MISS PERKY\n",
              "10             SHARON\n",
              "12             ALONSO\n",
              "            ...      \n",
              "9030         DURNFORD\n",
              "9031          MELVILL\n",
              "9032    NORRIS-NEWMAN\n",
              "9033     STUART SMITH\n",
              "9034          VEREKER\n",
              "Name: char_name, Length: 6008, dtype: object"
            ]
          },
          "metadata": {},
          "execution_count": 13
        }
      ]
    },
    {
      "cell_type": "markdown",
      "metadata": {
        "id": "97cGySjzHbvx"
      },
      "source": [
        "#### Manually imputing 6000 rows of data is a tedious task and we want to keep things simple for now. Hence we will be dropping these rows, at the cost of data loss. We also need to encode the values \"M\" and \"F\" to numbers, since algorithms only work with numbers. We will use 0 to denote male characters and 1 to denote female characters.\n",
        "\n",
        "\n",
        "#### We filter out the rows where gender value is marked as \"?\". In the next line we use the apply() method and a lambda function to encode the letters to numbers."
      ]
    },
    {
      "cell_type": "code",
      "metadata": {
        "colab": {
          "base_uri": "https://localhost:8080/"
        },
        "id": "HTCYRz8y2J0H",
        "outputId": "6917a09a-fb58-4bfa-970f-29b1d974323f"
      },
      "source": [
        "# Only select those enteries where gender is not labelled as \"?\"\n",
        "char_df = char_df[char_df[\"gender\"] != \"?\"]\n",
        "\n",
        "# encode males as 0 and females as 1\n",
        "char_df[\"gender\"] = char_df[\"gender\"].apply(lambda x: 0 if x in [\"m\",\"M\"] else 1)"
      ],
      "execution_count": 14,
      "outputs": [
        {
          "output_type": "stream",
          "name": "stderr",
          "text": [
            "/usr/local/lib/python3.7/dist-packages/ipykernel_launcher.py:5: SettingWithCopyWarning: \n",
            "A value is trying to be set on a copy of a slice from a DataFrame.\n",
            "Try using .loc[row_indexer,col_indexer] = value instead\n",
            "\n",
            "See the caveats in the documentation: https://pandas.pydata.org/pandas-docs/stable/user_guide/indexing.html#returning-a-view-versus-a-copy\n",
            "  \"\"\"\n"
          ]
        }
      ]
    },
    {
      "cell_type": "markdown",
      "metadata": {
        "id": "xzIZN-fGIK-G"
      },
      "source": [
        "#### We can check the shape off our resultant dataframe with the shape() method. We can see that \"?\" values were dropped and we are left with 3027 rows in the char_df "
      ]
    },
    {
      "cell_type": "code",
      "metadata": {
        "colab": {
          "base_uri": "https://localhost:8080/"
        },
        "id": "QdZEQAuC3azG",
        "outputId": "bede3296-30ad-4307-abf0-c2840b3620cb"
      },
      "source": [
        "char_df.shape"
      ],
      "execution_count": 15,
      "outputs": [
        {
          "output_type": "execute_result",
          "data": {
            "text/plain": [
              "(3027, 6)"
            ]
          },
          "metadata": {},
          "execution_count": 15
        }
      ]
    },
    {
      "cell_type": "markdown",
      "metadata": {
        "id": "AeCr8eSIqaFM"
      },
      "source": [
        "# Data Visualisation: A visual approach to gaining data insights.  \n",
        "\n",
        "#### Our eyes and brain are much more equipped to understand visual messages than numbers. So it is better that we use some data visualisation tools to gain deeper insight about our dataset.\n",
        "\n",
        "#### Pyhton has matplotlib and seaborn, which are 2 popular packages used for data visualisation.\n",
        "\n",
        "\n",
        "#### A fundamental rule of visualisation is to keep things as simple as possible. The goal is not to make the visualisations beautiful, but to make them meaningful enough to easily infer the insights from it.\n",
        "\n",
        "\n",
        "#### We will make extensive use of the barplot which is a really good way of plotting numeric and categorical variables."
      ]
    },
    {
      "cell_type": "markdown",
      "metadata": {
        "id": "5M0U-Wv2i5B5"
      },
      "source": [
        "#### First let us see how many characters there are in each gender.\n",
        "\n",
        "### We can use pandas internal plotting library, and a barplot to visualize the number of instances in each class (i.e. male or female). This is done by using the sns.barplot() method which takes in the categories as x coordinate and the counts as the y coordinate. \n",
        "\n",
        "#### kind argument denotes the kind of plot. WE have selected \"bar\". figsize denotes the size of the figure and it takes a tuple of values -> (width,height). The title takes the heading of the plot. The xlabel takes in the value used for the x coordinate. plt.show() method is used to show the plot, although it is optional in a jupyter-notebook like enviroment."
      ]
    },
    {
      "cell_type": "code",
      "metadata": {
        "colab": {
          "base_uri": "https://localhost:8080/",
          "height": 400
        },
        "id": "yqgCLvZj3cFo",
        "outputId": "fb74f6d9-69d6-4426-de6e-ab72ddb4c9cb"
      },
      "source": [
        "char_df[\"gender\"].value_counts().plot(kind=\"bar\",\n",
        "                                      figsize=(10,6),\n",
        "                                      xlabel=\"Gender\",\n",
        "                                      title=\"Number of characters in each gender\")\n",
        "plt.show()      # show the plot"
      ],
      "execution_count": 16,
      "outputs": [
        {
          "output_type": "display_data",
          "data": {
            "image/png": "[encoded data removed]",
            "text/plain": [
              "<Figure size 720x432 with 1 Axes>"
            ]
          },
          "metadata": {
            "needs_background": "light"
          }
        }
      ]
    },
    {
      "cell_type": "markdown",
      "metadata": {
        "id": "GHD8FKEzqlB2"
      },
      "source": [
        "#### In the above diagram, we can infer that there is a significantly large proportion of male characters than female in the movies. \n",
        "\n",
        "#### it might also be a good idea to merge the titles_df and lines_df together, since titles_df contains useful info about the movies. We will do that using pd.merge() function and join on the movie_id and movie_name columns. The \"inner\" argument only selects only those keys that intersect in both dataframes. We save the merged dataframe into a new variable called temp_df  "
      ]
    },
    {
      "cell_type": "code",
      "metadata": {
        "colab": {
          "base_uri": "https://localhost:8080/",
          "height": 193
        },
        "id": "mQPQ06LrqXKP",
        "outputId": "a8d16d62-f405-41e7-d96f-814752e0fc38"
      },
      "source": [
        "temp_df = pd.merge(char_df,titles_df,how=\"inner\",on=[\"movie_id\",\"movie_name\"]) # pd.merge() method on movie_id  key\n",
        "temp_df.head(3)"
      ],
      "execution_count": 17,
      "outputs": [
        {
          "output_type": "execute_result",
          "data": {
            "text/html": [
              "<div>\n",
              "<style scoped>\n",
              "    .dataframe tbody tr th:only-of-type {\n",
              "        vertical-align: middle;\n",
              "    }\n",
              "\n",
              "    .dataframe tbody tr th {\n",
              "        vertical-align: top;\n",
              "    }\n",
              "\n",
              "    .dataframe thead th {\n",
              "        text-align: right;\n",
              "    }\n",
              "</style>\n",
              "<table border=\"1\" class=\"dataframe\">\n",
              "  <thead>\n",
              "    <tr style=\"text-align: right;\">\n",
              "      <th></th>\n",
              "      <th>char_id</th>\n",
              "      <th>char_name</th>\n",
              "      <th>movie_id</th>\n",
              "      <th>movie_name</th>\n",
              "      <th>gender</th>\n",
              "      <th>post_credits</th>\n",
              "      <th>release_year</th>\n",
              "      <th>rating</th>\n",
              "      <th>votes</th>\n",
              "      <th>genre</th>\n",
              "    </tr>\n",
              "  </thead>\n",
              "  <tbody>\n",
              "    <tr>\n",
              "      <th>0</th>\n",
              "      <td>u0</td>\n",
              "      <td>BIANCA</td>\n",
              "      <td>m0</td>\n",
              "      <td>10 things i hate about you</td>\n",
              "      <td>1</td>\n",
              "      <td>4</td>\n",
              "      <td>1999</td>\n",
              "      <td>6.9</td>\n",
              "      <td>62847.0</td>\n",
              "      <td>['comedy' 'romance']</td>\n",
              "    </tr>\n",
              "    <tr>\n",
              "      <th>1</th>\n",
              "      <td>u2</td>\n",
              "      <td>CAMERON</td>\n",
              "      <td>m0</td>\n",
              "      <td>10 things i hate about you</td>\n",
              "      <td>0</td>\n",
              "      <td>3</td>\n",
              "      <td>1999</td>\n",
              "      <td>6.9</td>\n",
              "      <td>62847.0</td>\n",
              "      <td>['comedy' 'romance']</td>\n",
              "    </tr>\n",
              "    <tr>\n",
              "      <th>2</th>\n",
              "      <td>u4</td>\n",
              "      <td>JOEY</td>\n",
              "      <td>m0</td>\n",
              "      <td>10 things i hate about you</td>\n",
              "      <td>0</td>\n",
              "      <td>6</td>\n",
              "      <td>1999</td>\n",
              "      <td>6.9</td>\n",
              "      <td>62847.0</td>\n",
              "      <td>['comedy' 'romance']</td>\n",
              "    </tr>\n",
              "  </tbody>\n",
              "</table>\n",
              "</div>"
            ],
            "text/plain": [
              "  char_id char_name movie_id  ... rating    votes                 genre\n",
              "0      u0    BIANCA       m0  ...    6.9  62847.0  ['comedy' 'romance']\n",
              "1      u2   CAMERON       m0  ...    6.9  62847.0  ['comedy' 'romance']\n",
              "2      u4      JOEY       m0  ...    6.9  62847.0  ['comedy' 'romance']\n",
              "\n",
              "[3 rows x 10 columns]"
            ]
          },
          "metadata": {},
          "execution_count": 17
        }
      ]
    },
    {
      "cell_type": "code",
      "metadata": {
        "colab": {
          "base_uri": "https://localhost:8080/"
        },
        "id": "roU_iRWjsoY_",
        "outputId": "5834d01b-77eb-4654-a34c-6758f0afbacb"
      },
      "source": [
        "# The code below uses .describe() generates some descriptive statistics about the release_year column, like counts, no. of unique values etc\n",
        "temp_df[\"release_year\"].describe()"
      ],
      "execution_count": 18,
      "outputs": [
        {
          "output_type": "execute_result",
          "data": {
            "text/plain": [
              "count     3009\n",
              "unique      88\n",
              "top       1999\n",
              "freq       237\n",
              "Name: release_year, dtype: object"
            ]
          },
          "metadata": {},
          "execution_count": 18
        }
      ]
    },
    {
      "cell_type": "markdown",
      "metadata": {
        "id": "GKb9EmO3ux44"
      },
      "source": [
        "#### Let us look at the release_year column. When we are dealing with object data types (data types which are passed as string values) we should alaways check the nuber of unique values it contains. This igves us info about possible bugs or chunks inside the values that may later create problems in our analysis.    \n",
        "\n",
        "#### Using the unique() method on the release year column, We can see below that some of the years have been encoded differently, with escape characters being included in the string. This will invariably cause problems later on, so We will deal with that."
      ]
    },
    {
      "cell_type": "code",
      "metadata": {
        "colab": {
          "base_uri": "https://localhost:8080/"
        },
        "id": "RlZwkwxpuJfn",
        "outputId": "84d143f9-624e-4fbe-8cb0-0567c76d00d8"
      },
      "source": [
        "temp_df[\"release_year\"].unique()"
      ],
      "execution_count": 19,
      "outputs": [
        {
          "output_type": "execute_result",
          "data": {
            "text/plain": [
              "array(['1999', '1992', '2001', '1968', '1982', '1997', '1988', '1989',\n",
              "       '1959', '1980', '1986', '1984', '1981', '1932', '2000', '1998',\n",
              "       '1991', '1975', '2003', '2006', '1989/I', '1996', '2004', '1995',\n",
              "       '1942', '1974', '1990', '1933', '1993', '2005', '1931', '2009',\n",
              "       '2002', '1967', '1971', '1979', '1987', '1940', '1961', '2007',\n",
              "       '1953', '1934', '1990/I', '1983', '1994', '1985', '1976', '1937',\n",
              "       '1955', '1970', '1941', '1927', '1939', '1936', '1995/I', '1954',\n",
              "       '1949', '1943', '2010', '1977', '1972', '1963', '1945', '2008',\n",
              "       '1960', '1964', '1950', '1973', '1998/I', '1966', '2004/I',\n",
              "       '2007/I', '1944', '1978', '1992/I', '2005/I', '2002/I', '1946',\n",
              "       '1969', '1965', '1968/I', '1996/I', '1956', '1957', '2000/I',\n",
              "       '2009/I', '1958', '2003/I'], dtype=object)"
            ]
          },
          "metadata": {},
          "execution_count": 19
        }
      ]
    },
    {
      "cell_type": "markdown",
      "metadata": {
        "id": "E3IvLDLlMoHK"
      },
      "source": [
        "#### We use the str.replace() method to replace any substrings with our desired string. below, we have replaced \"/I\" with blank strings \"\"."
      ]
    },
    {
      "cell_type": "code",
      "metadata": {
        "id": "ud4iSLqGv3VJ"
      },
      "source": [
        "# replace all escape characters and uppercase I with blanks\n",
        "temp_df[\"release_year\"] = temp_df[\"release_year\"].str.replace(\"/I\",\"\")"
      ],
      "execution_count": 20,
      "outputs": []
    },
    {
      "cell_type": "markdown",
      "metadata": {
        "id": "ndPtIsbLNBzV"
      },
      "source": [
        "#### The resultant column has been cleaned, as you can see below. "
      ]
    },
    {
      "cell_type": "code",
      "metadata": {
        "colab": {
          "base_uri": "https://localhost:8080/"
        },
        "id": "QVwtdJn0wDIZ",
        "outputId": "82d504cd-2b68-4e7b-e533-7484d180dbfe"
      },
      "source": [
        "temp_df[\"release_year\"].unique()"
      ],
      "execution_count": 21,
      "outputs": [
        {
          "output_type": "execute_result",
          "data": {
            "text/plain": [
              "array(['1999', '1992', '2001', '1968', '1982', '1997', '1988', '1989',\n",
              "       '1959', '1980', '1986', '1984', '1981', '1932', '2000', '1998',\n",
              "       '1991', '1975', '2003', '2006', '1996', '2004', '1995', '1942',\n",
              "       '1974', '1990', '1933', '1993', '2005', '1931', '2009', '2002',\n",
              "       '1967', '1971', '1979', '1987', '1940', '1961', '2007', '1953',\n",
              "       '1934', '1983', '1994', '1985', '1976', '1937', '1955', '1970',\n",
              "       '1941', '1927', '1939', '1936', '1954', '1949', '1943', '2010',\n",
              "       '1977', '1972', '1963', '1945', '2008', '1960', '1964', '1950',\n",
              "       '1973', '1966', '1944', '1978', '1946', '1969', '1965', '1956',\n",
              "       '1957', '1958'], dtype=object)"
            ]
          },
          "metadata": {},
          "execution_count": 21
        }
      ]
    },
    {
      "cell_type": "markdown",
      "metadata": {
        "id": "2fQsd9wC2_hQ"
      },
      "source": [
        "#### The figure below shows the maximum votes given to movies for every year from 1927-2010. We do this by using the df.groupby() function for aggregating the votes using release_year. the plot is made using pandas internal plotting library.\n",
        "\n",
        "#### note: groupby() is an extremely useful method for aggregating our desired data based on specific columns. The column levels will be passed in as an argument to the method and then we can call any numerical aggregation (in the form of counts, mean, median, etc) on the columns that we desire.\n",
        "\n",
        "#### We check the maximum votes given to a movie each year using the groupby() method below. We also use sort_values() to the result to sort them in ascending order.\n",
        "\n",
        "\n",
        "#### We can see that 1972 had the maximum amount of votes give by audiences to movies"
      ]
    },
    {
      "cell_type": "code",
      "metadata": {
        "colab": {
          "base_uri": "https://localhost:8080/",
          "height": 1000
        },
        "id": "75NQY1ANytyG",
        "outputId": "ec563ecb-c301-4acb-a903-227ebd7af472"
      },
      "source": [
        "# groupby release year, aggregate maximum votes given\n",
        "pd.DataFrame(temp_df.groupby(\"release_year\")[\"votes\"].max().sort_values()).plot(kind=\"barh\",\n",
        "                                                                  figsize=(10,30),\n",
        "                                                                  color=\"teal\",\n",
        "                                                                  title=\"Maximum Votes given per year\")\n",
        "plt.show()  "
      ],
      "execution_count": 22,
      "outputs": [
        {
          "output_type": "display_data",
          "data": {
            "image/png": "[encoded data removed]",
            "text/plain": [
              "<Figure size 720x2160 with 1 Axes>"
            ]
          },
          "metadata": {
            "needs_background": "light"
          }
        }
      ]
    },
    {
      "cell_type": "markdown",
      "metadata": {
        "id": "Jn52lloM5-g9"
      },
      "source": [
        "#### Below you can see the 5 highest rated movie genres. Unsurprisingly it is populated with \"action\",\"adventure\",\"crime\" etc since these are the most consumed genres in the mainstream movie industry.\n",
        "\n",
        "#### We are grouping by the genre and aggregating the ratings with the maximum values, then sorting them in descending order (sor_values(ascending=False) and displaying the top 5 values with .head()."
      ]
    },
    {
      "cell_type": "code",
      "metadata": {
        "colab": {
          "base_uri": "https://localhost:8080/",
          "height": 281
        },
        "id": "8rY8YB9O3g-r",
        "outputId": "2b95fb14-7ec8-45ff-facf-1e0c57782014"
      },
      "source": [
        "# Display the top 5 highest rated movie genres\n",
        "pd.DataFrame(temp_df.groupby(\"genre\")[\"votes\"].max().sort_values(ascending=False).head()).plot(kind=\"barh\",\n",
        "                                                                                               color=\"green\",\n",
        "                                                                                               title=\"Top movie genres by votes\")\n",
        "plt.show() "
      ],
      "execution_count": 23,
      "outputs": [
        {
          "output_type": "display_data",
          "data": {
            "image/png": "[encoded data removed]",
            "text/plain": [
              "<Figure size 432x288 with 1 Axes>"
            ]
          },
          "metadata": {
            "needs_background": "light"
          }
        }
      ]
    },
    {
      "cell_type": "markdown",
      "metadata": {
        "id": "EtbDEKT_mps9"
      },
      "source": [
        "#### The barplot below represents the highest rated movies in the dataset. We are grouping by \"movie_name\", aggregating by the maximum rating values (.max()), and showing the top 5 results"
      ]
    },
    {
      "cell_type": "code",
      "metadata": {
        "colab": {
          "base_uri": "https://localhost:8080/",
          "height": 281
        },
        "id": "o7XRGYAakQUp",
        "outputId": "a364284e-e969-47b3-8975-88c8a2ff2648"
      },
      "source": [
        "pd.DataFrame(temp_df.groupby([\"movie_name\"])[\"rating\"].max().head().sort_values(ascending=False)).plot(kind=\"barh\",\n",
        "                                                                                                       color=\"blue\",\n",
        "                                                                                                       title=\"Top 5 highest rated films\")\n",
        "plt.show()"
      ],
      "execution_count": 24,
      "outputs": [
        {
          "output_type": "display_data",
          "data": {
            "image/png": "[encoded data removed]",
            "text/plain": [
              "<Figure size 432x288 with 1 Axes>"
            ]
          },
          "metadata": {
            "needs_background": "light"
          }
        }
      ]
    },
    {
      "cell_type": "code",
      "metadata": {
        "colab": {
          "base_uri": "https://localhost:8080/",
          "height": 204
        },
        "id": "L6SEdTdG3jHB",
        "outputId": "0a440440-4a60-4172-f6af-9f7d3b317101"
      },
      "source": [
        "char_df.head()"
      ],
      "execution_count": 25,
      "outputs": [
        {
          "output_type": "execute_result",
          "data": {
            "text/html": [
              "<div>\n",
              "<style scoped>\n",
              "    .dataframe tbody tr th:only-of-type {\n",
              "        vertical-align: middle;\n",
              "    }\n",
              "\n",
              "    .dataframe tbody tr th {\n",
              "        vertical-align: top;\n",
              "    }\n",
              "\n",
              "    .dataframe thead th {\n",
              "        text-align: right;\n",
              "    }\n",
              "</style>\n",
              "<table border=\"1\" class=\"dataframe\">\n",
              "  <thead>\n",
              "    <tr style=\"text-align: right;\">\n",
              "      <th></th>\n",
              "      <th>char_id</th>\n",
              "      <th>char_name</th>\n",
              "      <th>movie_id</th>\n",
              "      <th>movie_name</th>\n",
              "      <th>gender</th>\n",
              "      <th>post_credits</th>\n",
              "    </tr>\n",
              "  </thead>\n",
              "  <tbody>\n",
              "    <tr>\n",
              "      <th>0</th>\n",
              "      <td>u0</td>\n",
              "      <td>BIANCA</td>\n",
              "      <td>m0</td>\n",
              "      <td>10 things i hate about you</td>\n",
              "      <td>1</td>\n",
              "      <td>4</td>\n",
              "    </tr>\n",
              "    <tr>\n",
              "      <th>2</th>\n",
              "      <td>u2</td>\n",
              "      <td>CAMERON</td>\n",
              "      <td>m0</td>\n",
              "      <td>10 things i hate about you</td>\n",
              "      <td>0</td>\n",
              "      <td>3</td>\n",
              "    </tr>\n",
              "    <tr>\n",
              "      <th>4</th>\n",
              "      <td>u4</td>\n",
              "      <td>JOEY</td>\n",
              "      <td>m0</td>\n",
              "      <td>10 things i hate about you</td>\n",
              "      <td>0</td>\n",
              "      <td>6</td>\n",
              "    </tr>\n",
              "    <tr>\n",
              "      <th>5</th>\n",
              "      <td>u5</td>\n",
              "      <td>KAT</td>\n",
              "      <td>m0</td>\n",
              "      <td>10 things i hate about you</td>\n",
              "      <td>1</td>\n",
              "      <td>2</td>\n",
              "    </tr>\n",
              "    <tr>\n",
              "      <th>6</th>\n",
              "      <td>u6</td>\n",
              "      <td>MANDELLA</td>\n",
              "      <td>m0</td>\n",
              "      <td>10 things i hate about you</td>\n",
              "      <td>1</td>\n",
              "      <td>7</td>\n",
              "    </tr>\n",
              "  </tbody>\n",
              "</table>\n",
              "</div>"
            ],
            "text/plain": [
              "  char_id char_name movie_id                  movie_name  gender post_credits\n",
              "0      u0    BIANCA       m0  10 things i hate about you       1            4\n",
              "2      u2   CAMERON       m0  10 things i hate about you       0            3\n",
              "4      u4      JOEY       m0  10 things i hate about you       0            6\n",
              "5      u5       KAT       m0  10 things i hate about you       1            2\n",
              "6      u6  MANDELLA       m0  10 things i hate about you       1            7"
            ]
          },
          "metadata": {},
          "execution_count": 25
        }
      ]
    },
    {
      "cell_type": "markdown",
      "metadata": {
        "id": "3bh6BEAvAUot"
      },
      "source": [
        "### Let us now examine the lines_df dataframe:\n",
        "\n",
        "#### The most important feature of this dataset is \"dialogue\". The others are either primary keys (like movie_id, line_id and char_id) or they hold redundant information in this context (like char_names). The dataset also contains missing values which will be dealth with later. "
      ]
    },
    {
      "cell_type": "code",
      "metadata": {
        "colab": {
          "base_uri": "https://localhost:8080/",
          "height": 142
        },
        "id": "YGB4TIQz4q-W",
        "outputId": "804cec8c-e192-40e5-961d-cec44ac28238"
      },
      "source": [
        "lines_df.head(3) # head method to inspect few rows of the dataset"
      ],
      "execution_count": 26,
      "outputs": [
        {
          "output_type": "execute_result",
          "data": {
            "text/html": [
              "<div>\n",
              "<style scoped>\n",
              "    .dataframe tbody tr th:only-of-type {\n",
              "        vertical-align: middle;\n",
              "    }\n",
              "\n",
              "    .dataframe tbody tr th {\n",
              "        vertical-align: top;\n",
              "    }\n",
              "\n",
              "    .dataframe thead th {\n",
              "        text-align: right;\n",
              "    }\n",
              "</style>\n",
              "<table border=\"1\" class=\"dataframe\">\n",
              "  <thead>\n",
              "    <tr style=\"text-align: right;\">\n",
              "      <th></th>\n",
              "      <th>line_id</th>\n",
              "      <th>char_id</th>\n",
              "      <th>movie_id</th>\n",
              "      <th>char_name</th>\n",
              "      <th>dialogue</th>\n",
              "    </tr>\n",
              "  </thead>\n",
              "  <tbody>\n",
              "    <tr>\n",
              "      <th>0</th>\n",
              "      <td>L1045</td>\n",
              "      <td>u0</td>\n",
              "      <td>m0</td>\n",
              "      <td>BIANCA</td>\n",
              "      <td>They do not!</td>\n",
              "    </tr>\n",
              "    <tr>\n",
              "      <th>1</th>\n",
              "      <td>L1044</td>\n",
              "      <td>u2</td>\n",
              "      <td>m0</td>\n",
              "      <td>CAMERON</td>\n",
              "      <td>They do to!</td>\n",
              "    </tr>\n",
              "    <tr>\n",
              "      <th>2</th>\n",
              "      <td>L985</td>\n",
              "      <td>u0</td>\n",
              "      <td>m0</td>\n",
              "      <td>BIANCA</td>\n",
              "      <td>I hope so.</td>\n",
              "    </tr>\n",
              "  </tbody>\n",
              "</table>\n",
              "</div>"
            ],
            "text/plain": [
              "  line_id char_id movie_id char_name      dialogue\n",
              "0   L1045      u0       m0    BIANCA  They do not!\n",
              "1   L1044      u2       m0   CAMERON   They do to!\n",
              "2    L985      u0       m0    BIANCA    I hope so."
            ]
          },
          "metadata": {},
          "execution_count": 26
        }
      ]
    },
    {
      "cell_type": "code",
      "metadata": {
        "colab": {
          "base_uri": "https://localhost:8080/"
        },
        "id": "M7BQvY-MABqD",
        "outputId": "26e0c404-6d73-421a-f30c-8658847a2a86"
      },
      "source": [
        "lines_df.info() # general summary of the data"
      ],
      "execution_count": 27,
      "outputs": [
        {
          "output_type": "stream",
          "name": "stdout",
          "text": [
            "<class 'pandas.core.frame.DataFrame'>\n",
            "RangeIndex: 293368 entries, 0 to 293367\n",
            "Data columns (total 5 columns):\n",
            " #   Column     Non-Null Count   Dtype \n",
            "---  ------     --------------   ----- \n",
            " 0   line_id    293368 non-null  object\n",
            " 1   char_id    289083 non-null  object\n",
            " 2   movie_id   289083 non-null  object\n",
            " 3   char_name  289040 non-null  object\n",
            " 4   dialogue   288823 non-null  object\n",
            "dtypes: object(5)\n",
            "memory usage: 11.2+ MB\n"
          ]
        }
      ]
    },
    {
      "cell_type": "markdown",
      "metadata": {
        "id": "Yr4hr6N-FaPY"
      },
      "source": [
        "#### We will now be merging the lines_df dataframe with the char_df dataframe. The merge() method takes in 2 dataframes and aggregates their information. It does so by merging the dataframes on common columns, also called primary keys, using the \"on\" argument."
      ]
    },
    {
      "cell_type": "code",
      "metadata": {
        "colab": {
          "base_uri": "https://localhost:8080/",
          "height": 289
        },
        "id": "V50rEobrDXEr",
        "outputId": "ac360742-9879-4ed8-84e3-1cb5c5a19c1a"
      },
      "source": [
        "# merge lines_df and char_df into one dataframe\n",
        "data = pd.merge(lines_df,char_df,how=\"inner\",on=[\"char_id\",\"movie_id\",\"char_name\"])\n",
        "\n",
        "# print first 5 rows\n",
        "data.head()"
      ],
      "execution_count": 28,
      "outputs": [
        {
          "output_type": "execute_result",
          "data": {
            "text/html": [
              "<div>\n",
              "<style scoped>\n",
              "    .dataframe tbody tr th:only-of-type {\n",
              "        vertical-align: middle;\n",
              "    }\n",
              "\n",
              "    .dataframe tbody tr th {\n",
              "        vertical-align: top;\n",
              "    }\n",
              "\n",
              "    .dataframe thead th {\n",
              "        text-align: right;\n",
              "    }\n",
              "</style>\n",
              "<table border=\"1\" class=\"dataframe\">\n",
              "  <thead>\n",
              "    <tr style=\"text-align: right;\">\n",
              "      <th></th>\n",
              "      <th>line_id</th>\n",
              "      <th>char_id</th>\n",
              "      <th>movie_id</th>\n",
              "      <th>char_name</th>\n",
              "      <th>dialogue</th>\n",
              "      <th>movie_name</th>\n",
              "      <th>gender</th>\n",
              "      <th>post_credits</th>\n",
              "    </tr>\n",
              "  </thead>\n",
              "  <tbody>\n",
              "    <tr>\n",
              "      <th>0</th>\n",
              "      <td>L1045</td>\n",
              "      <td>u0</td>\n",
              "      <td>m0</td>\n",
              "      <td>BIANCA</td>\n",
              "      <td>They do not!</td>\n",
              "      <td>10 things i hate about you</td>\n",
              "      <td>1</td>\n",
              "      <td>4</td>\n",
              "    </tr>\n",
              "    <tr>\n",
              "      <th>1</th>\n",
              "      <td>L985</td>\n",
              "      <td>u0</td>\n",
              "      <td>m0</td>\n",
              "      <td>BIANCA</td>\n",
              "      <td>I hope so.</td>\n",
              "      <td>10 things i hate about you</td>\n",
              "      <td>1</td>\n",
              "      <td>4</td>\n",
              "    </tr>\n",
              "    <tr>\n",
              "      <th>2</th>\n",
              "      <td>L925</td>\n",
              "      <td>u0</td>\n",
              "      <td>m0</td>\n",
              "      <td>BIANCA</td>\n",
              "      <td>Let's go.</td>\n",
              "      <td>10 things i hate about you</td>\n",
              "      <td>1</td>\n",
              "      <td>4</td>\n",
              "    </tr>\n",
              "    <tr>\n",
              "      <th>3</th>\n",
              "      <td>L872</td>\n",
              "      <td>u0</td>\n",
              "      <td>m0</td>\n",
              "      <td>BIANCA</td>\n",
              "      <td>Okay -- you're gonna need to learn how to lie.</td>\n",
              "      <td>10 things i hate about you</td>\n",
              "      <td>1</td>\n",
              "      <td>4</td>\n",
              "    </tr>\n",
              "    <tr>\n",
              "      <th>4</th>\n",
              "      <td>L869</td>\n",
              "      <td>u0</td>\n",
              "      <td>m0</td>\n",
              "      <td>BIANCA</td>\n",
              "      <td>Like my fear of wearing pastels?</td>\n",
              "      <td>10 things i hate about you</td>\n",
              "      <td>1</td>\n",
              "      <td>4</td>\n",
              "    </tr>\n",
              "  </tbody>\n",
              "</table>\n",
              "</div>"
            ],
            "text/plain": [
              "  line_id char_id movie_id  ...                  movie_name gender post_credits\n",
              "0   L1045      u0       m0  ...  10 things i hate about you      1            4\n",
              "1    L985      u0       m0  ...  10 things i hate about you      1            4\n",
              "2    L925      u0       m0  ...  10 things i hate about you      1            4\n",
              "3    L872      u0       m0  ...  10 things i hate about you      1            4\n",
              "4    L869      u0       m0  ...  10 things i hate about you      1            4\n",
              "\n",
              "[5 rows x 8 columns]"
            ]
          },
          "metadata": {},
          "execution_count": 28
        }
      ]
    },
    {
      "cell_type": "markdown",
      "metadata": {
        "id": "aqAB8poSTGpI"
      },
      "source": [
        "### We will now check for missing or null values in any of the column in the dataset. Dealing with missing values is a necessary preprocessing step in order to work with Machine Learning models.\n",
        "### We will use the data.isnull().sum() method to find out how many null values are present in each column."
      ]
    },
    {
      "cell_type": "code",
      "metadata": {
        "colab": {
          "base_uri": "https://localhost:8080/"
        },
        "id": "S_Qn8m8GJ0Fi",
        "outputId": "78e821c5-0d5d-4e2b-98ca-f0c34a6e2508"
      },
      "source": [
        "data.isnull().sum()"
      ],
      "execution_count": 29,
      "outputs": [
        {
          "output_type": "execute_result",
          "data": {
            "text/plain": [
              "line_id           0\n",
              "char_id           0\n",
              "movie_id          0\n",
              "char_name         0\n",
              "dialogue        203\n",
              "movie_name        0\n",
              "gender            0\n",
              "post_credits      0\n",
              "dtype: int64"
            ]
          },
          "metadata": {},
          "execution_count": 29
        }
      ]
    },
    {
      "cell_type": "markdown",
      "metadata": {
        "id": "vBmMooDjUAA8"
      },
      "source": [
        "### On closer inspection we can see that only the dialogue column contains null_values. Since dialogues are arbitrary and there really isn't any way to impute them, we drop these columns.\n",
        "\n",
        "### We will then remove missing values from the dataset using the dropna() method. "
      ]
    },
    {
      "cell_type": "code",
      "metadata": {
        "id": "UmZtQcU7S_J4"
      },
      "source": [
        "data = data.dropna()"
      ],
      "execution_count": 30,
      "outputs": []
    },
    {
      "cell_type": "markdown",
      "metadata": {
        "id": "KSRigNLCU9XF"
      },
      "source": [
        "### Checking once again, we can see that all the null values have been removed from the dataset."
      ]
    },
    {
      "cell_type": "code",
      "metadata": {
        "colab": {
          "base_uri": "https://localhost:8080/"
        },
        "id": "itvMdixsUy7c",
        "outputId": "a26702d6-12ca-4dd1-8a7a-89fda7eafe1a"
      },
      "source": [
        "data.isnull().sum()"
      ],
      "execution_count": 31,
      "outputs": [
        {
          "output_type": "execute_result",
          "data": {
            "text/plain": [
              "line_id         0\n",
              "char_id         0\n",
              "movie_id        0\n",
              "char_name       0\n",
              "dialogue        0\n",
              "movie_name      0\n",
              "gender          0\n",
              "post_credits    0\n",
              "dtype: int64"
            ]
          },
          "metadata": {},
          "execution_count": 31
        }
      ]
    },
    {
      "cell_type": "markdown",
      "metadata": {
        "id": "gLi0BOMJrVWo"
      },
      "source": [
        "#### Let us now clean the dialogues. There are a few fundamental concepts to keep in mind here.\n",
        "\n",
        "#### Machine Learning algorithms and predictive models cannot work with unstructured data like images or raw text. They can only work with numbers. Hence it is our job to transform our the datasets such that it can be understood by the algorithms. \n",
        "\n",
        "#### Text strings (like the ones in the dialogue column) need to be numerical encoded into numbers (or tokenized) to achieve this. One approach of doing so is converting each individual word in the string to corresponding tokens. The aim is to create a vocabulary of unique words that were learned in the training data, which will be used later to make predictions on unseen test data. But before that, we need to clean the strings.\n",
        "\n",
        "\n",
        "#### The predictive strength of our classification model will depend on what sort of data is passed to it, and how the text data has been encoded. We can choose to remove punctuations, since they add extra noise. We can choose to convert the words to lowercase, or remove commonly used words which really don't add any value to the sentence. (a.k.a stopwords -> eg: I, a, the, are, is, he, she etc). There are multiple ways to approach the problem, and the correct one is guided by the problem we are trying to solve.\n",
        "\n",
        "\n"
      ]
    },
    {
      "cell_type": "markdown",
      "metadata": {
        "id": "E2uC6ErI6ifi"
      },
      "source": [
        "### Let us check the words that occur the most across all the individual dialogues in the dataset. We import the WordCloud class from the wordcloud library. wordcloud illustrates the most common word occurences in a corpus or text.\n",
        "\n",
        "### In this case, we create an object of the WordCloud class, generate the words from the \"dialogue\" column using \"word_cloud.generate(\" \".join(data[\"dialogue\"]))\". Then we illustrate the words using \"imshow()\" function of matplotlib.  "
      ]
    },
    {
      "cell_type": "code",
      "metadata": {
        "colab": {
          "base_uri": "https://localhost:8080/",
          "height": 403
        },
        "id": "HmnZGeRUrUfp",
        "outputId": "71ffccf0-0067-4e9c-db34-33f2a62a8104"
      },
      "source": [
        "from wordcloud import WordCloud   # imprt wordcloud\n",
        "\n",
        "word_cloud = WordCloud()    # create WordCloud object \n",
        "word_cloud.generate(\" \".join(data[\"dialogue\"]))   # generate words from the dialogue column\n",
        "plt.figure(figsize=(12,18)) \n",
        "plt.imshow(word_cloud)  # illustrate common words"
      ],
      "execution_count": 32,
      "outputs": [
        {
          "output_type": "execute_result",
          "data": {
            "text/plain": [
              "<matplotlib.image.AxesImage at 0x7f8179c53990>"
            ]
          },
          "metadata": {},
          "execution_count": 32
        },
        {
          "output_type": "display_data",
          "data": {
            "image/png": "[encoded data removed]",
            "text/plain": [
              "<Figure size 864x1296 with 1 Axes>"
            ]
          },
          "metadata": {
            "needs_background": "light"
          }
        }
      ]
    },
    {
      "cell_type": "markdown",
      "metadata": {
        "id": "jKqs2S019X1V"
      },
      "source": [
        "### We learnt earlier that stopwords carry very little information in a corpus and its better to avoid it. But in some cases (like this one), words like (the, a,and, you, are, is) provide useful contextual information, which might be useful for the model when it is learning from the data. Hence we will not be removing these words.\n",
        "\n",
        "### However, it is better that filter out things in such a way that the dialogue only contains alphanumeric characters. We also get rid of punctuations.\n",
        "\n",
        "\n",
        "### We do these steps in a function called clean_dialogues(), as shown below.\n",
        "\n",
        "* First we remove html tags and punctuations using regular expressions. We only keep letters in the string.\n",
        "\n",
        "* Then, we convert each word to lower case and use split() funtion to convert to individual words.\n",
        "\n",
        "* Next we use a lemmatizer, which takes in an input word and converts it to its base or root word. (eg: converts words like \"went\", \"gone\", \"going\", to \"go\" which is the base for all these words). This reduces the size of the vocabulary as well, which in turn reduces computational cost. "
      ]
    },
    {
      "cell_type": "markdown",
      "metadata": {
        "id": "MyOjnFQdFeZR"
      },
      "source": [
        "### It would be useful to import the nltk library and run the command \"nltk.download('wordnet')\", which downloads the wordnet dictionary. This is necessary for our lemmatizer to work properly and not generate any errors.   "
      ]
    },
    {
      "cell_type": "code",
      "metadata": {
        "colab": {
          "base_uri": "https://localhost:8080/"
        },
        "id": "hiMJZf9YEmLL",
        "outputId": "dfa1a02e-0544-4ff8-e5da-a13381ef4fe8"
      },
      "source": [
        "import nltk   # import nltk\n",
        "nltk.download('wordnet')   # download the wordnet corpus from nltk"
      ],
      "execution_count": 33,
      "outputs": [
        {
          "output_type": "stream",
          "name": "stdout",
          "text": [
            "[nltk_data] Downloading package wordnet to /root/nltk_data...\n",
            "[nltk_data]   Unzipping corpora/wordnet.zip.\n"
          ]
        },
        {
          "output_type": "execute_result",
          "data": {
            "text/plain": [
              "True"
            ]
          },
          "metadata": {},
          "execution_count": 33
        }
      ]
    },
    {
      "cell_type": "code",
      "metadata": {
        "id": "Q_HXCXOlDC_I"
      },
      "source": [
        "lemmatizer = WordNetLemmatizer()    # instantiating an object of the WordNetLemmatizer class"
      ],
      "execution_count": 34,
      "outputs": []
    },
    {
      "cell_type": "code",
      "metadata": {
        "id": "Qvt355O53GV4"
      },
      "source": [
        "def clean_dialogues(dialogue):\n",
        "\n",
        "  \"\"\"\n",
        "  Function that takes in a dialogue as input and outpus an alphanumeric corpus of text.\n",
        "  \"\"\" \n",
        "\n",
        "  dialogue = re.sub(\"[^a-zA-Z]\", \" \", dialogue)   # filter out characters such that only alphanumeric characters remain\n",
        "\n",
        "  dialogue = dialogue.lower().split()    # convert words to lowercase and split string to individual words\n",
        "\n",
        "  clean_dialogue = [lemmatizer.lemmatize(word) for word in dialogue]   # lemmatize each word in the dialogue and create a list of \n",
        "                                                                        # clean words\n",
        "\n",
        "  return \" \".join(clean_dialogue)   # return the clean words from the list in a single text\n"
      ],
      "execution_count": 35,
      "outputs": []
    },
    {
      "cell_type": "markdown",
      "metadata": {
        "id": "b38YGXFmDyvv"
      },
      "source": [
        "### Now we will apply this clean_dialogues() function on the dialogue column using the apply() method"
      ]
    },
    {
      "cell_type": "code",
      "metadata": {
        "id": "fbSL4DIVDyTG"
      },
      "source": [
        "data[\"dialogue\"] = data[\"dialogue\"].apply(clean_dialogues)"
      ],
      "execution_count": 36,
      "outputs": []
    },
    {
      "cell_type": "markdown",
      "metadata": {
        "id": "hfbi1hh7iRmw"
      },
      "source": [
        "### We now have a cleaned dataset that can be used for feature selection. "
      ]
    },
    {
      "cell_type": "code",
      "metadata": {
        "id": "wcL6SUihU5vf",
        "colab": {
          "base_uri": "https://localhost:8080/",
          "height": 204
        },
        "outputId": "e82b62f2-278d-48a0-98c1-45fc6068d0a9"
      },
      "source": [
        "data.head()"
      ],
      "execution_count": 37,
      "outputs": [
        {
          "output_type": "execute_result",
          "data": {
            "text/html": [
              "<div>\n",
              "<style scoped>\n",
              "    .dataframe tbody tr th:only-of-type {\n",
              "        vertical-align: middle;\n",
              "    }\n",
              "\n",
              "    .dataframe tbody tr th {\n",
              "        vertical-align: top;\n",
              "    }\n",
              "\n",
              "    .dataframe thead th {\n",
              "        text-align: right;\n",
              "    }\n",
              "</style>\n",
              "<table border=\"1\" class=\"dataframe\">\n",
              "  <thead>\n",
              "    <tr style=\"text-align: right;\">\n",
              "      <th></th>\n",
              "      <th>line_id</th>\n",
              "      <th>char_id</th>\n",
              "      <th>movie_id</th>\n",
              "      <th>char_name</th>\n",
              "      <th>dialogue</th>\n",
              "      <th>movie_name</th>\n",
              "      <th>gender</th>\n",
              "      <th>post_credits</th>\n",
              "    </tr>\n",
              "  </thead>\n",
              "  <tbody>\n",
              "    <tr>\n",
              "      <th>0</th>\n",
              "      <td>L1045</td>\n",
              "      <td>u0</td>\n",
              "      <td>m0</td>\n",
              "      <td>BIANCA</td>\n",
              "      <td>they do not</td>\n",
              "      <td>10 things i hate about you</td>\n",
              "      <td>1</td>\n",
              "      <td>4</td>\n",
              "    </tr>\n",
              "    <tr>\n",
              "      <th>1</th>\n",
              "      <td>L985</td>\n",
              "      <td>u0</td>\n",
              "      <td>m0</td>\n",
              "      <td>BIANCA</td>\n",
              "      <td>i hope so</td>\n",
              "      <td>10 things i hate about you</td>\n",
              "      <td>1</td>\n",
              "      <td>4</td>\n",
              "    </tr>\n",
              "    <tr>\n",
              "      <th>2</th>\n",
              "      <td>L925</td>\n",
              "      <td>u0</td>\n",
              "      <td>m0</td>\n",
              "      <td>BIANCA</td>\n",
              "      <td>let s go</td>\n",
              "      <td>10 things i hate about you</td>\n",
              "      <td>1</td>\n",
              "      <td>4</td>\n",
              "    </tr>\n",
              "    <tr>\n",
              "      <th>3</th>\n",
              "      <td>L872</td>\n",
              "      <td>u0</td>\n",
              "      <td>m0</td>\n",
              "      <td>BIANCA</td>\n",
              "      <td>okay you re gonna need to learn how to lie</td>\n",
              "      <td>10 things i hate about you</td>\n",
              "      <td>1</td>\n",
              "      <td>4</td>\n",
              "    </tr>\n",
              "    <tr>\n",
              "      <th>4</th>\n",
              "      <td>L869</td>\n",
              "      <td>u0</td>\n",
              "      <td>m0</td>\n",
              "      <td>BIANCA</td>\n",
              "      <td>like my fear of wearing pastel</td>\n",
              "      <td>10 things i hate about you</td>\n",
              "      <td>1</td>\n",
              "      <td>4</td>\n",
              "    </tr>\n",
              "  </tbody>\n",
              "</table>\n",
              "</div>"
            ],
            "text/plain": [
              "  line_id char_id movie_id  ...                  movie_name gender post_credits\n",
              "0   L1045      u0       m0  ...  10 things i hate about you      1            4\n",
              "1    L985      u0       m0  ...  10 things i hate about you      1            4\n",
              "2    L925      u0       m0  ...  10 things i hate about you      1            4\n",
              "3    L872      u0       m0  ...  10 things i hate about you      1            4\n",
              "4    L869      u0       m0  ...  10 things i hate about you      1            4\n",
              "\n",
              "[5 rows x 8 columns]"
            ]
          },
          "metadata": {},
          "execution_count": 37
        }
      ]
    },
    {
      "cell_type": "markdown",
      "metadata": {
        "id": "t6v97yNgqKeK"
      },
      "source": [
        "#### from the dataframe we can see that each character has multiple dialogues in a film. What we need to do is groupby the character names and gender, and concatenate all dialogues stated by an individual character into a single string. We do this by using the .groupby() function once again. and aggregating the dialogues. \n",
        "\n",
        "#### We execute all the mentioned steps below, and assign to a variable called final_df  "
      ]
    },
    {
      "cell_type": "code",
      "metadata": {
        "colab": {
          "base_uri": "https://localhost:8080/",
          "height": 204
        },
        "id": "AVlOpoe-RLGx",
        "outputId": "df6b33a2-5b85-4b45-ea42-7edbfd2c4354"
      },
      "source": [
        "final_df = data.groupby([\"char_name\",\"gender\"]).agg({\"dialogue\":[lambda words: \" \".join(words)]})   # groupby character names and gender,\n",
        "                                                                                                    # aggregate dialogue of each character into\n",
        "                                                                                                    # one string\n",
        "final_df.head(3)"
      ],
      "execution_count": 38,
      "outputs": [
        {
          "output_type": "execute_result",
          "data": {
            "text/html": [
              "<div>\n",
              "<style scoped>\n",
              "    .dataframe tbody tr th:only-of-type {\n",
              "        vertical-align: middle;\n",
              "    }\n",
              "\n",
              "    .dataframe tbody tr th {\n",
              "        vertical-align: top;\n",
              "    }\n",
              "\n",
              "    .dataframe thead tr th {\n",
              "        text-align: left;\n",
              "    }\n",
              "\n",
              "    .dataframe thead tr:last-of-type th {\n",
              "        text-align: right;\n",
              "    }\n",
              "</style>\n",
              "<table border=\"1\" class=\"dataframe\">\n",
              "  <thead>\n",
              "    <tr>\n",
              "      <th></th>\n",
              "      <th></th>\n",
              "      <th>dialogue</th>\n",
              "    </tr>\n",
              "    <tr>\n",
              "      <th></th>\n",
              "      <th></th>\n",
              "      <th>&lt;lambda&gt;</th>\n",
              "    </tr>\n",
              "    <tr>\n",
              "      <th>char_name</th>\n",
              "      <th>gender</th>\n",
              "      <th></th>\n",
              "    </tr>\n",
              "  </thead>\n",
              "  <tbody>\n",
              "    <tr>\n",
              "      <th>AARON</th>\n",
              "      <th>0</th>\n",
              "      <td>why congratulation on history s longest winnin...</td>\n",
              "    </tr>\n",
              "    <tr>\n",
              "      <th>AARONOW</th>\n",
              "      <th>0</th>\n",
              "      <td>if anyone s going i could use some coffee fine...</td>\n",
              "    </tr>\n",
              "    <tr>\n",
              "      <th>ABBOTT</th>\n",
              "      <th>0</th>\n",
              "      <td>he left yesterday on the night train he s prob...</td>\n",
              "    </tr>\n",
              "  </tbody>\n",
              "</table>\n",
              "</div>"
            ],
            "text/plain": [
              "                                                           dialogue\n",
              "                                                           <lambda>\n",
              "char_name gender                                                   \n",
              "AARON     0       why congratulation on history s longest winnin...\n",
              "AARONOW   0       if anyone s going i could use some coffee fine...\n",
              "ABBOTT    0       he left yesterday on the night train he s prob..."
            ]
          },
          "metadata": {},
          "execution_count": 38
        }
      ]
    },
    {
      "cell_type": "markdown",
      "metadata": {
        "id": "phB6bW7qiZZD"
      },
      "source": [
        "#### We then reset the index using the reset_index() function. This will use the default integers indices, and the previous ones will be converted to column and added to the data. Hence, char_name and gender will be converted to their own column in this dataframe."
      ]
    },
    {
      "cell_type": "code",
      "metadata": {
        "id": "9jR23BQJVby9",
        "colab": {
          "base_uri": "https://localhost:8080/",
          "height": 173
        },
        "outputId": "bf869d27-3e86-4fc7-b256-9a95d42f0945"
      },
      "source": [
        "final_df = final_df.reset_index()     # reset the index of the dataframe. \n",
        "                                      #The previous indices of char_name and gender get converted to column and added.\n",
        "final_df.head(3)"
      ],
      "execution_count": 39,
      "outputs": [
        {
          "output_type": "execute_result",
          "data": {
            "text/html": [
              "<div>\n",
              "<style scoped>\n",
              "    .dataframe tbody tr th:only-of-type {\n",
              "        vertical-align: middle;\n",
              "    }\n",
              "\n",
              "    .dataframe tbody tr th {\n",
              "        vertical-align: top;\n",
              "    }\n",
              "\n",
              "    .dataframe thead tr th {\n",
              "        text-align: left;\n",
              "    }\n",
              "</style>\n",
              "<table border=\"1\" class=\"dataframe\">\n",
              "  <thead>\n",
              "    <tr>\n",
              "      <th></th>\n",
              "      <th>char_name</th>\n",
              "      <th>gender</th>\n",
              "      <th>dialogue</th>\n",
              "    </tr>\n",
              "    <tr>\n",
              "      <th></th>\n",
              "      <th></th>\n",
              "      <th></th>\n",
              "      <th>&lt;lambda&gt;</th>\n",
              "    </tr>\n",
              "  </thead>\n",
              "  <tbody>\n",
              "    <tr>\n",
              "      <th>0</th>\n",
              "      <td>AARON</td>\n",
              "      <td>0</td>\n",
              "      <td>why congratulation on history s longest winnin...</td>\n",
              "    </tr>\n",
              "    <tr>\n",
              "      <th>1</th>\n",
              "      <td>AARONOW</td>\n",
              "      <td>0</td>\n",
              "      <td>if anyone s going i could use some coffee fine...</td>\n",
              "    </tr>\n",
              "    <tr>\n",
              "      <th>2</th>\n",
              "      <td>ABBOTT</td>\n",
              "      <td>0</td>\n",
              "      <td>he left yesterday on the night train he s prob...</td>\n",
              "    </tr>\n",
              "  </tbody>\n",
              "</table>\n",
              "</div>"
            ],
            "text/plain": [
              "  char_name gender                                           dialogue\n",
              "                                                             <lambda>\n",
              "0     AARON      0  why congratulation on history s longest winnin...\n",
              "1   AARONOW      0  if anyone s going i could use some coffee fine...\n",
              "2    ABBOTT      0  he left yesterday on the night train he s prob..."
            ]
          },
          "metadata": {},
          "execution_count": 39
        }
      ]
    },
    {
      "cell_type": "markdown",
      "metadata": {
        "id": "9zuKgeluidE1"
      },
      "source": [
        "#### Finally we create a list denoting the column names to use, and assign them to final_df.columns"
      ]
    },
    {
      "cell_type": "code",
      "metadata": {
        "id": "lui__-5PRUPl"
      },
      "source": [
        "columns_to_use = [\"char_name\",\"gender\",\"dialogue\"]    # create list of columns to use\n",
        "final_df.columns = columns_to_use     # use the columns"
      ],
      "execution_count": 40,
      "outputs": []
    },
    {
      "cell_type": "code",
      "metadata": {
        "colab": {
          "base_uri": "https://localhost:8080/",
          "height": 142
        },
        "id": "0bxQ8gZpNktN",
        "outputId": "559b75fd-3994-4bc2-8400-f6ff832b3b9d"
      },
      "source": [
        "final_df.head(3)"
      ],
      "execution_count": 41,
      "outputs": [
        {
          "output_type": "execute_result",
          "data": {
            "text/html": [
              "<div>\n",
              "<style scoped>\n",
              "    .dataframe tbody tr th:only-of-type {\n",
              "        vertical-align: middle;\n",
              "    }\n",
              "\n",
              "    .dataframe tbody tr th {\n",
              "        vertical-align: top;\n",
              "    }\n",
              "\n",
              "    .dataframe thead th {\n",
              "        text-align: right;\n",
              "    }\n",
              "</style>\n",
              "<table border=\"1\" class=\"dataframe\">\n",
              "  <thead>\n",
              "    <tr style=\"text-align: right;\">\n",
              "      <th></th>\n",
              "      <th>char_name</th>\n",
              "      <th>gender</th>\n",
              "      <th>dialogue</th>\n",
              "    </tr>\n",
              "  </thead>\n",
              "  <tbody>\n",
              "    <tr>\n",
              "      <th>0</th>\n",
              "      <td>AARON</td>\n",
              "      <td>0</td>\n",
              "      <td>why congratulation on history s longest winnin...</td>\n",
              "    </tr>\n",
              "    <tr>\n",
              "      <th>1</th>\n",
              "      <td>AARONOW</td>\n",
              "      <td>0</td>\n",
              "      <td>if anyone s going i could use some coffee fine...</td>\n",
              "    </tr>\n",
              "    <tr>\n",
              "      <th>2</th>\n",
              "      <td>ABBOTT</td>\n",
              "      <td>0</td>\n",
              "      <td>he left yesterday on the night train he s prob...</td>\n",
              "    </tr>\n",
              "  </tbody>\n",
              "</table>\n",
              "</div>"
            ],
            "text/plain": [
              "  char_name  gender                                           dialogue\n",
              "0     AARON       0  why congratulation on history s longest winnin...\n",
              "1   AARONOW       0  if anyone s going i could use some coffee fine...\n",
              "2    ABBOTT       0  he left yesterday on the night train he s prob..."
            ]
          },
          "metadata": {},
          "execution_count": 41
        }
      ]
    },
    {
      "cell_type": "code",
      "metadata": {
        "colab": {
          "base_uri": "https://localhost:8080/"
        },
        "id": "8FR_RCuaOGEK",
        "outputId": "8b25fdee-3be5-429d-d98b-8d75a381bb1e"
      },
      "source": [
        "final_df.info()"
      ],
      "execution_count": 42,
      "outputs": [
        {
          "output_type": "stream",
          "name": "stdout",
          "text": [
            "<class 'pandas.core.frame.DataFrame'>\n",
            "RangeIndex: 1955 entries, 0 to 1954\n",
            "Data columns (total 3 columns):\n",
            " #   Column     Non-Null Count  Dtype \n",
            "---  ------     --------------  ----- \n",
            " 0   char_name  1955 non-null   object\n",
            " 1   gender     1955 non-null   int64 \n",
            " 2   dialogue   1955 non-null   object\n",
            "dtypes: int64(1), object(2)\n",
            "memory usage: 45.9+ KB\n"
          ]
        }
      ]
    },
    {
      "cell_type": "markdown",
      "metadata": {
        "id": "gL93-3eMllYp"
      },
      "source": [
        "#### Before we move on, let us create our training and test datasets. Our models will be trained on the training set and then will be used to make predictions on the test set.\n",
        "\n",
        "#### First we will separate our predictor set (inputs) and our reponse set (outputs). For our usecase, the predictor will be the dialogue spoken by a character and the output will be the gender of that character. We will store them in variables X and y respectively.  "
      ]
    },
    {
      "cell_type": "code",
      "metadata": {
        "id": "71jLeiztljPJ"
      },
      "source": [
        "X = final_df[\"dialogue\"]    # assign input dialogues to a variable X, which denote our predictors\n",
        "\n",
        "y = final_df[\"gender\"]   # We will be using the genders as our response. "
      ],
      "execution_count": 43,
      "outputs": []
    },
    {
      "cell_type": "code",
      "metadata": {
        "colab": {
          "base_uri": "https://localhost:8080/"
        },
        "id": "a7eZWyXfpm4P",
        "outputId": "e59395da-c2fc-4bd1-f8be-f020ed14f8e5"
      },
      "source": [
        "X.shape"
      ],
      "execution_count": 44,
      "outputs": [
        {
          "output_type": "execute_result",
          "data": {
            "text/plain": [
              "(1955,)"
            ]
          },
          "metadata": {},
          "execution_count": 44
        }
      ]
    },
    {
      "cell_type": "markdown",
      "metadata": {
        "id": "K4Ow9Kj2nWpG"
      },
      "source": [
        "#### Now let us partition our training and test sets. We will use the scikit-learn train_test_split() function to achieve this. We import it first and then use it to create the partitions. \n",
        "\n",
        "#### The test_size argument refers to the proportion of your test partition. In our case it's better to have test_data  20% of our overall data. so it will be 0.2\n",
        "\n",
        "#### Since the splits are made randomly, the random_seed argument is used to control the randomness of the split, such that we get the same partition every time we run the cell. This is generally considered good practice. You can pass any number in the argument, just make sure that it stays the same throughout your experiments."
      ]
    },
    {
      "cell_type": "code",
      "metadata": {
        "id": "vIYaK3sNng7R"
      },
      "source": [
        "from sklearn.model_selection import train_test_split    # import train_test_split()"
      ],
      "execution_count": 45,
      "outputs": []
    },
    {
      "cell_type": "code",
      "metadata": {
        "id": "XJEYcI57mzFx"
      },
      "source": [
        "X_train, X_test, y_train, y_test = train_test_split(X,y,test_size=0.2, random_state=101)"
      ],
      "execution_count": 46,
      "outputs": []
    },
    {
      "cell_type": "markdown",
      "metadata": {
        "id": "y7ai6xwWpWaz"
      },
      "source": [
        "#### Given below are the sizes of each partition. The training and testing partitions have 1564 and 391 values respectively."
      ]
    },
    {
      "cell_type": "code",
      "metadata": {
        "colab": {
          "base_uri": "https://localhost:8080/"
        },
        "id": "PutjUzmtpEQw",
        "outputId": "e1990abf-e49d-4d9e-9ae3-38141bbf1da6"
      },
      "source": [
        "# here we are checking the sizes of each of the partitions that we just made.\n",
        "\n",
        "print(\"Predictor training set: \",X_train.shape[0])\n",
        "print(\"Predictor testing set: \",X_test.shape[0])\n",
        "print(\"Response training set: \",y_train.shape[0])\n",
        "print(\"Response set: \",y_test.shape[0])"
      ],
      "execution_count": 47,
      "outputs": [
        {
          "output_type": "stream",
          "name": "stdout",
          "text": [
            "Predictor training set:  1564\n",
            "Predictor testing set:  391\n",
            "Response training set:  1564\n",
            "Response set:  391\n"
          ]
        }
      ]
    },
    {
      "cell_type": "markdown",
      "metadata": {
        "id": "0ynMYVrRikuU"
      },
      "source": [
        "#### Reiterating from the previous point that ML models require numeric data, as a last preprocessng step we need to create numeric feature vectors from the texts in the dialogue column.\n",
        "\n",
        "#### A common way to do this is to implement word frequencies, i.e. we are essentially calculating number of occurences of a particular word in a corpus of text. Each word will be given a score based on its word frequency in a particular sentence. \n",
        "\n",
        "#### We will be implementing this using tfidf vectorizer from scikit-learn library. tfidf stands for (Term frequency - Inverse document frequency), and at a high level, it gives a higher score to words that are more unique or distinct.  "
      ]
    },
    {
      "cell_type": "markdown",
      "metadata": {
        "id": "6q_Yxxx2khI8"
      },
      "source": [
        "Import the tfidf vectorizer class from the feature_extraction.text module of scikitlearn and instantiate an object of the class. "
      ]
    },
    {
      "cell_type": "code",
      "metadata": {
        "id": "iprka5QIPxF2"
      },
      "source": [
        "from sklearn.feature_extraction.text import TfidfVectorizer   # import the tfidf vectorizer class"
      ],
      "execution_count": 48,
      "outputs": []
    },
    {
      "cell_type": "code",
      "metadata": {
        "id": "zrJd2RWZk4lL"
      },
      "source": [
        "vec = TfidfVectorizer()   # create an instance called \"vec\""
      ],
      "execution_count": 49,
      "outputs": []
    },
    {
      "cell_type": "markdown",
      "metadata": {
        "id": "NpVf4ZQHlDmh"
      },
      "source": [
        "#### This object will now be used to transform the dialogues to feature vectors i.e. tokenize them, and will generate new encodings on an unseen set of dialogues. \n",
        "\n",
        "#### We will use the fit_transform() method to fit the vectorier on the training predictors and then use it to transform the test predictors as well.   "
      ]
    },
    {
      "cell_type": "code",
      "metadata": {
        "id": "IfAD6SFNlCAo"
      },
      "source": [
        "# fit and transform the training predictor:\n",
        "X_train_transformed = vec.fit_transform(X_train)\n",
        "\n",
        "# use the trained vectorier to transform the test predictors:\n",
        "X_test_transformed = vec.transform(X_test)"
      ],
      "execution_count": 50,
      "outputs": []
    },
    {
      "cell_type": "markdown",
      "metadata": {
        "id": "iy3jBPOcsTdq"
      },
      "source": [
        "#### You can check out the vectorizer's vocabulary (i.e. all the unique words) by using the vocabulary_ attribute."
      ]
    },
    {
      "cell_type": "code",
      "metadata": {
        "colab": {
          "base_uri": "https://localhost:8080/"
        },
        "id": "eLfnraCrrrJn",
        "outputId": "76efa468-5323-4fd2-c076-be9ec95e40b7"
      },
      "source": [
        "vec.vocabulary_   # access the vectorizer vocabulary"
      ],
      "execution_count": 51,
      "outputs": [
        {
          "output_type": "execute_result",
          "data": {
            "text/plain": [
              "{'what': 31331,\n",
              " 'goin': 11814,\n",
              " 'on': 19852,\n",
              " 'in': 14047,\n",
              " 'here': 12987,\n",
              " 'lad': 15785,\n",
              " 'oh': 19780,\n",
              " 'it': 14795,\n",
              " 'doe': 8139,\n",
              " 'with': 31671,\n",
              " 'you': 32071,\n",
              " 'wonder': 31734,\n",
              " 'where': 31380,\n",
              " 'powell': 21831,\n",
              " 'and': 942,\n",
              " 'carney': 4228,\n",
              " 'are': 1297,\n",
              " 'do': 8105,\n",
              " 'think': 28637,\n",
              " 'the': 28555,\n",
              " 'voice': 30822,\n",
              " 'heard': 12803,\n",
              " 'wa': 30902,\n",
              " 'coming': 5466,\n",
              " 'from': 11064,\n",
              " 'sound': 26580,\n",
              " 'again': 470,\n",
              " 'if': 13828,\n",
              " 'didn': 7649,\n",
              " 'know': 15623,\n",
              " 'better': 2587,\n",
              " 'swear': 27925,\n",
              " 'we': 31160,\n",
              " 'were': 31278,\n",
              " 'moving': 18640,\n",
              " 'hey': 13043,\n",
              " 'somethin': 26481,\n",
              " 'getting': 11540,\n",
              " 'lighter': 16360,\n",
              " 'don': 8206,\n",
              " 'hear': 12802,\n",
              " 'anything': 1114,\n",
              " 'maybe': 17566,\n",
              " 've': 30498,\n",
              " 'been': 2342,\n",
              " 'down': 8336,\n",
              " 'too': 28998,\n",
              " 'long': 16645,\n",
              " 'why': 31488,\n",
              " 'go': 11764,\n",
              " 'back': 1840,\n",
              " 'up': 30252,\n",
              " 'yeah': 31981,\n",
              " 're': 22970,\n",
              " 'right': 23971,\n",
              " 'how': 13504,\n",
              " 'about': 83,\n",
              " 'that': 28548,\n",
              " 'bow': 3246,\n",
              " 'drove': 8480,\n",
              " 'half': 12442,\n",
              " 'through': 28721,\n",
              " 'her': 12976,\n",
              " 'but': 3829,\n",
              " 'she': 25424,\n",
              " 'sealed': 25024,\n",
              " 'herself': 13021,\n",
              " 'not': 19446,\n",
              " 'alone': 745,\n",
              " 'reef': 23238,\n",
              " 'can': 4054,\n",
              " 'take': 28124,\n",
              " 'explorer': 9741,\n",
              " 'clamp': 5037,\n",
              " 'around': 1367,\n",
              " 'eye': 9820,\n",
              " 'got': 11906,\n",
              " 'to': 28910,\n",
              " 'let': 16220,\n",
              " 'try': 29498,\n",
              " 'skipper': 26000,\n",
              " 'look': 16667,\n",
              " 'at': 1569,\n",
              " 'depth': 7392,\n",
              " 'gauge': 11380,\n",
              " 'like': 16376,\n",
              " 'distress': 8035,\n",
              " 'call': 3979,\n",
              " 'small': 26198,\n",
              " 'freighter': 10988,\n",
              " 'between': 2594,\n",
              " 'ellesmere': 8962,\n",
              " 'island': 14777,\n",
              " 'greenland': 12090,\n",
              " 'one': 19862,\n",
              " 'mayday': 17568,\n",
              " 'then': 28576,\n",
              " 'nothing': 19460,\n",
              " 'have': 12726,\n",
              " 'ever': 9520,\n",
              " 'talked': 28147,\n",
              " 'carl': 4209,\n",
              " 'tried': 29372,\n",
              " 'see': 25096,\n",
              " 'his': 13155,\n",
              " 'side': 25741,\n",
              " 'lot': 16722,\n",
              " 'of': 19735,\n",
              " 'people': 20893,\n",
              " 'so': 26364,\n",
              " 'guess': 12260,\n",
              " 'huh': 13570,\n",
              " 'could': 6225,\n",
              " 'be': 2237,\n",
              " 'worse': 31819,\n",
              " 'than': 28535,\n",
              " 'disappoint': 7808,\n",
              " 'ing': 14309,\n",
              " 'little': 16503,\n",
              " 'girl': 11639,\n",
              " 'worst': 31826,\n",
              " 'possible': 21768,\n",
              " 'moment': 18357,\n",
              " 'tomorrow': 28980,\n",
              " 'is': 14765,\n",
              " 'janie': 14897,\n",
              " 'birthday': 2718,\n",
              " 'poor': 21670,\n",
              " 'kid': 15452,\n",
              " 'ha': 12365,\n",
              " 'looked': 16670,\n",
              " 'forward': 10840,\n",
              " 'for': 10722,\n",
              " 'two': 29655,\n",
              " 'month': 18441,\n",
              " 'having': 12731,\n",
              " 'daddy': 6756,\n",
              " 'home': 13278,\n",
              " 'now': 19499,\n",
              " 'julie': 15197,\n",
              " 'nice': 19207,\n",
              " 'seen': 25113,\n",
              " 'work': 31787,\n",
              " 'deserves': 7442,\n",
              " 'fighting': 10288,\n",
              " 'chance': 4553,\n",
              " 'sidearms': 25742,\n",
              " 'saucer': 24695,\n",
              " 'dead': 6968,\n",
              " 'frogman': 11061,\n",
              " 'course': 6269,\n",
              " 'mass': 17454,\n",
              " 'jelly': 14965,\n",
              " 'stuff': 27503,\n",
              " 'came': 4020,\n",
              " 'out': 20116,\n",
              " 'thing': 28634,\n",
              " 'caught': 4381,\n",
              " 'our': 20112,\n",
              " 'torpedo': 29045,\n",
              " 'speed': 26724,\n",
              " 'twenty': 29626,\n",
              " 'knot': 15616,\n",
              " 'due': 8548,\n",
              " 'north': 19416,\n",
              " 'seems': 25112,\n",
              " 'all': 686,\n",
              " 'president': 21991,\n",
              " 'they': 28617,\n",
              " 'say': 24738,\n",
              " 'buck': 3601,\n",
              " 'stop': 27326,\n",
              " 'full': 11145,\n",
              " 'responsibility': 23727,\n",
              " 'every': 9528,\n",
              " 'my': 18838,\n",
              " 'illegal': 13870,\n",
              " 'act': 245,\n",
              " 'fine': 10345,\n",
              " 'said': 24510,\n",
              " 'fired': 10383,\n",
              " 'get': 11531,\n",
              " 'outta': 20180,\n",
              " 'well': 31255,\n",
              " 'am': 800,\n",
              " 'nobody': 19335,\n",
              " 'mean': 17652,\n",
              " 'press': 21996,\n",
              " 'conference': 5727,\n",
              " 'couple': 6261,\n",
              " 'idea': 13797,\n",
              " 'wanted': 31020,\n",
              " 'share': 25391,\n",
              " 'country': 6255,\n",
              " 'yes': 32019,\n",
              " 'bob': 2998,\n",
              " 'choice': 4856,\n",
              " 'commerce': 5495,\n",
              " 'department': 7344,\n",
              " 'great': 12075,\n",
              " 'last': 15931,\n",
              " 'minute': 18113,\n",
              " 'change': 4563,\n",
              " 'shelter': 25456,\n",
              " 'this': 28656,\n",
              " 'bill': 2660,\n",
              " 'no': 19326,\n",
              " 'hell': 12918,\n",
              " 'problem': 22124,\n",
              " 'thanks': 28543,\n",
              " 'doing': 8158,\n",
              " 'ellen': 8961,\n",
              " 'alright': 764,\n",
              " 'leaguer': 16053,\n",
              " 'who': 31446,\n",
              " 'may': 17563,\n",
              " 'strike': 27435,\n",
              " 'heart': 12812,\n",
              " 'least': 16082,\n",
              " 'swung': 28007,\n",
              " 'hand': 12508,\n",
              " 'sure': 27816,\n",
              " 'remember': 23473,\n",
              " 'convention': 6003,\n",
              " 'speech': 26722,\n",
              " 'promise': 22218,\n",
              " 'won': 31733,\n",
              " 'going': 11816,\n",
              " 'away': 1782,\n",
              " 'holiday': 13249,\n",
              " 'worry': 31816,\n",
              " 'okay': 19804,\n",
              " 'holy': 13274,\n",
              " 'cow': 6292,\n",
              " 'kidding': 15459,\n",
              " 'first': 10401,\n",
              " 'lady': 15791,\n",
              " 'uh': 29708,\n",
              " 'sometimes': 26484,\n",
              " 'just': 15241,\n",
              " 'barter': 2126,\n",
              " 'legal': 16132,\n",
              " 'usual': 30345,\n",
              " 'dangerous': 6845,\n",
              " 'or': 19966,\n",
              " 'mr': 18648,\n",
              " 'alexander': 649,\n",
              " 'cause': 4387,\n",
              " 'other': 20086,\n",
              " 'me': 17645,\n",
              " 'talk': 28145,\n",
              " 'want': 31018,\n",
              " 'wave': 31136,\n",
              " 'care': 4188,\n",
              " 'did': 7643,\n",
              " 'later': 15943,\n",
              " 'come': 5447,\n",
              " 'camp': 4040,\n",
              " 'david': 6926,\n",
              " 'something': 26482,\n",
              " 'start': 27103,\n",
              " 'top': 29015,\n",
              " 'buy': 3872,\n",
              " 'payment': 20736,\n",
              " 'surprised': 27839,\n",
              " 'save': 24712,\n",
              " 'anywhere': 1118,\n",
              " 'government': 11928,\n",
              " 'gonna': 11842,\n",
              " 'find': 10340,\n",
              " 'would': 31835,\n",
              " 'hired': 13149,\n",
              " 'll': 16540,\n",
              " 'catch': 4348,\n",
              " 'ya': 31936,\n",
              " 'dinner': 7747,\n",
              " 'swimming': 27971,\n",
              " 'he': 12762,\n",
              " 'making': 17126,\n",
              " 'fix': 10433,\n",
              " 'alan': 607,\n",
              " 'wrong': 31891,\n",
              " 'made': 17008,\n",
              " 'night': 19246,\n",
              " 'any': 1102,\n",
              " 'more': 18503,\n",
              " 'went': 31274,\n",
              " 'there': 28592,\n",
              " 'saw': 24726,\n",
              " 'those': 28676,\n",
              " 'vetoed': 30619,\n",
              " 'quick': 22637,\n",
              " 'gimme': 11617,\n",
              " 'quarter': 22606,\n",
              " 'couldn': 6228,\n",
              " 'cousin': 6283,\n",
              " 'thought': 28680,\n",
              " 'wasn': 31088,\n",
              " 'gentle': 11479,\n",
              " 'kindness': 15508,\n",
              " 'family': 9961,\n",
              " 'kitchen': 15553,\n",
              " 'gather': 11373,\n",
              " 'together': 28939,\n",
              " 'when': 31375,\n",
              " 'sun': 27713,\n",
              " 'america': 849,\n",
              " 'isn': 14779,\n",
              " 'tonight': 28990,\n",
              " 'face': 9854,\n",
              " 'smile': 26230,\n",
              " 'sunday': 27717,\n",
              " 'afternoon': 461,\n",
              " 'somewhere': 26487,\n",
              " 'distant': 8010,\n",
              " 'light': 16354,\n",
              " 'guiding': 12277,\n",
              " 'rocky': 24122,\n",
              " 'shoal': 25563,\n",
              " 'otherwise': 20088,\n",
              " 'put': 22547,\n",
              " 'em': 9002,\n",
              " 'presence': 21980,\n",
              " 'teleprompter': 28369,\n",
              " 'hooked': 13351,\n",
              " 'car': 4161,\n",
              " 'gues': 12259,\n",
              " 'might': 17981,\n",
              " 'really': 23011,\n",
              " 'crazy': 6391,\n",
              " 'will': 31546,\n",
              " 'gosh': 11903,\n",
              " 'happened': 12576,\n",
              " 'god': 11777,\n",
              " 'extend': 9767,\n",
              " 'sorry': 26562,\n",
              " 'crowd': 6531,\n",
              " 'excited': 9612,\n",
              " 'important': 13999,\n",
              " 'tell': 28376,\n",
              " 'some': 26468,\n",
              " 'eight': 8856,\n",
              " 'year': 31984,\n",
              " 'old': 19817,\n",
              " 'sleep': 26085,\n",
              " 'street': 27409,\n",
              " 'because': 2300,\n",
              " 'feel': 10130,\n",
              " 'their': 28565,\n",
              " 'him': 13118,\n",
              " 'spending': 26743,\n",
              " 'forty': 10838,\n",
              " 'seven': 25293,\n",
              " 'million': 18038,\n",
              " 'dollar': 8173,\n",
              " 'make': 17120,\n",
              " 'already': 763,\n",
              " 'bought': 3224,\n",
              " 'perceptual': 20913,\n",
              " 'three': 28698,\n",
              " 'an': 903,\n",
              " 'ad': 269,\n",
              " 'campaign': 4042,\n",
              " 'boost': 3144,\n",
              " 'consumer': 5913,\n",
              " 'confidence': 5738,\n",
              " 'american': 851,\n",
              " 'auto': 1711,\n",
              " 'industry': 14214,\n",
              " 'kinda': 15501,\n",
              " 'same': 24575,\n",
              " 'way': 31149,\n",
              " 'your': 32080,\n",
              " 'started': 27104,\n",
              " 'hi': 13050,\n",
              " 'attack': 1619,\n",
              " 'dog': 8143,\n",
              " 'fidelity': 10260,\n",
              " 'nonsense': 19380,\n",
              " 'certainly': 4492,\n",
              " 'ah': 525,\n",
              " 'duane': 8521,\n",
              " 'far': 9986,\n",
              " 'since': 25860,\n",
              " 'stroke': 27455,\n",
              " 'bum': 3699,\n",
              " 'king': 15511,\n",
              " 'waiting': 30944,\n",
              " 'jack': 14830,\n",
              " 'reed': 23235,\n",
              " 'them': 28570,\n",
              " 'need': 19039,\n",
              " 'immediately': 13928,\n",
              " 'true': 29475,\n",
              " 'killed': 15481,\n",
              " 'life': 16329,\n",
              " 'always': 798,\n",
              " 'wondered': 31735,\n",
              " 'guy': 12349,\n",
              " 'bullet': 3676,\n",
              " 'use': 30331,\n",
              " 'gun': 12308,\n",
              " 'protect': 22295,\n",
              " 'whole': 31452,\n",
              " 'time': 28832,\n",
              " 'job': 15070,\n",
              " 'legitimate': 16148,\n",
              " 'deduction': 7109,\n",
              " 'piano': 21181,\n",
              " 'fun': 11157,\n",
              " 'exactly': 9571,\n",
              " 'oval': 20188,\n",
              " 'office': 19756,\n",
              " 'missed': 18181,\n",
              " 'never': 19149,\n",
              " 'funeral': 11170,\n",
              " 'believing': 2423,\n",
              " 'inch': 14076,\n",
              " 'apart': 1125,\n",
              " 'bit': 2733,\n",
              " 'done': 8217,\n",
              " 'next': 19190,\n",
              " 'carried': 4254,\n",
              " 'good': 11847,\n",
              " 'funny': 11181,\n",
              " 'secretary': 25067,\n",
              " 'stiff': 27245,\n",
              " 'run': 24388,\n",
              " 'temp': 28384,\n",
              " 'agency': 483,\n",
              " 'running': 24398,\n",
              " 'secret': 25065,\n",
              " 'wait': 30939,\n",
              " 'starving': 27115,\n",
              " 'open': 19917,\n",
              " 'hungry': 13634,\n",
              " 'fact': 9867,\n",
              " 'mitchell': 18219,\n",
              " 'pick': 21190,\n",
              " 'day': 6940,\n",
              " 'mind': 18059,\n",
              " 'truman': 29479,\n",
              " 'used': 30332,\n",
              " 'hurt': 13664,\n",
              " 'anybody': 1105,\n",
              " 'even': 9512,\n",
              " 'helping': 12939,\n",
              " 'souvenir': 26607,\n",
              " 'towel': 29111,\n",
              " 'leaving': 16091,\n",
              " 'asked': 1465,\n",
              " 'help': 12934,\n",
              " 'mistake': 18200,\n",
              " 'magic': 17041,\n",
              " 'trick': 29359,\n",
              " 'understand': 29895,\n",
              " 'homeless': 13281,\n",
              " 'bet': 2563,\n",
              " 'proud': 22313,\n",
              " 'walked': 30968,\n",
              " 'socked': 26396,\n",
              " 'nose': 19432,\n",
              " 'whatever': 31342,\n",
              " 'deserved': 7440,\n",
              " 'kind': 15500,\n",
              " 'man': 17175,\n",
              " 'ruined': 24364,\n",
              " 'money': 18383,\n",
              " 'annex': 1012,\n",
              " 'shot': 25615,\n",
              " 'nirdlinger': 19302,\n",
              " 'yourself': 32083,\n",
              " 'please': 21458,\n",
              " 'ed': 8769,\n",
              " 'embezzling': 9030,\n",
              " 'own': 20312,\n",
              " 'goddamn': 11783,\n",
              " 'wife': 31514,\n",
              " 'capitalization': 4128,\n",
              " 'operation': 19930,\n",
              " 'christ': 4900,\n",
              " 'almighty': 739,\n",
              " 'talking': 28151,\n",
              " 'doris': 8273,\n",
              " 'store': 27335,\n",
              " 'hide': 13061,\n",
              " 'ann': 1005,\n",
              " 'jesus': 15012,\n",
              " 'staying': 27148,\n",
              " 'hotel': 13459,\n",
              " 'gone': 11838,\n",
              " 'question': 22629,\n",
              " 'must': 18804,\n",
              " 'obvious': 19678,\n",
              " 'sonofabitch': 26502,\n",
              " 'blackmailer': 2782,\n",
              " 'businessman': 3811,\n",
              " 'sacramento': 24471,\n",
              " 'pansy': 20469,\n",
              " 'rope': 24213,\n",
              " 'into': 14608,\n",
              " 'crackpot': 6332,\n",
              " 'scheme': 24815,\n",
              " 'told': 28955,\n",
              " 'very': 30601,\n",
              " 'blackmailed': 2781,\n",
              " 'amount': 879,\n",
              " 'though': 28679,\n",
              " 'only': 19871,\n",
              " 'husband': 13670,\n",
              " 'awkward': 1791,\n",
              " 'throw': 28723,\n",
              " 'keister': 15372,\n",
              " 'serve': 25261,\n",
              " 'indulgence': 14209,\n",
              " 'ownership': 20315,\n",
              " 'note': 19453,\n",
              " 'blackmail': 2780,\n",
              " 'across': 242,\n",
              " 'everybody': 9529,\n",
              " 'anyway': 1116,\n",
              " 'drop': 8470,\n",
              " 'by': 3885,\n",
              " 'update': 30257,\n",
              " 'suit': 27677,\n",
              " 'smock': 26241,\n",
              " 'these': 28613,\n",
              " 'boom': 3135,\n",
              " 'retailing': 23770,\n",
              " 'opening': 19921,\n",
              " 'another': 1042,\n",
              " 'big': 2641,\n",
              " 'dave': 6924,\n",
              " 'garson': 11349,\n",
              " 'strictly': 27430,\n",
              " 'haberdashery': 12373,\n",
              " 'casual': 4329,\n",
              " 'wear': 31176,\n",
              " 'pyjama': 22562,\n",
              " 'foundation': 10854,\n",
              " 'undergarment': 29871,\n",
              " 'matter': 17522,\n",
              " 'thinking': 28642,\n",
              " 'comptroller': 5634,\n",
              " 'barbershop': 2055,\n",
              " 'rare': 22889,\n",
              " 'quite': 22669,\n",
              " 'service': 25265,\n",
              " 'doin': 8157,\n",
              " 'known': 15632,\n",
              " 'andy': 960,\n",
              " 'except': 9598,\n",
              " 'speak': 26677,\n",
              " 'off': 19738,\n",
              " 'drug': 8490,\n",
              " 'painted': 20399,\n",
              " 'picture': 21207,\n",
              " 'eaten': 8733,\n",
              " 'many': 17283,\n",
              " 'place': 21372,\n",
              " 'doesn': 8141,\n",
              " 'person': 21003,\n",
              " 'friend': 11028,\n",
              " 'fuck': 11111,\n",
              " 'article': 1419,\n",
              " 'toasted': 28915,\n",
              " 'bagel': 1897,\n",
              " 'cream': 6392,\n",
              " 'cheese': 4696,\n",
              " 'asking': 1467,\n",
              " 'lapdog': 15886,\n",
              " 'remark': 23457,\n",
              " 'read': 22986,\n",
              " 'wrote': 31897,\n",
              " 'compassion': 5555,\n",
              " 'housefly': 13489,\n",
              " 'enemy': 9161,\n",
              " 'audience': 1662,\n",
              " 'hasn': 12679,\n",
              " 'born': 3178,\n",
              " 'yet': 32027,\n",
              " 'lie': 16312,\n",
              " 'art': 1406,\n",
              " 'popular': 21693,\n",
              " 'written': 31890,\n",
              " 'newspaper': 19178,\n",
              " 'ten': 28406,\n",
              " 'planet': 21392,\n",
              " 'painting': 20402,\n",
              " 'few': 10228,\n",
              " 'cook': 6039,\n",
              " 'sick': 25727,\n",
              " 'backdrop': 1845,\n",
              " 'kabuki': 15263,\n",
              " 'theater': 28557,\n",
              " 'japan': 14910,\n",
              " 'after': 457,\n",
              " 'joseph': 15129,\n",
              " 'beuys': 2596,\n",
              " 'died': 7654,\n",
              " 'rebirth': 23054,\n",
              " 'felt': 10160,\n",
              " 'someone': 26474,\n",
              " 'else': 8989,\n",
              " 'instead': 14457,\n",
              " 'chinese': 4813,\n",
              " 'calligrapher': 3987,\n",
              " 'name': 18888,\n",
              " 'mid': 17959,\n",
              " 'career': 4190,\n",
              " 'over': 20192,\n",
              " 'version': 30596,\n",
              " 'should': 25618,\n",
              " 'studio': 27496,\n",
              " 'sometime': 26483,\n",
              " 'dragon': 8375,\n",
              " 'head': 12764,\n",
              " 'black': 2763,\n",
              " 'filled': 10307,\n",
              " 'fast': 10031,\n",
              " 'wouldn': 31837,\n",
              " 'breathe': 3383,\n",
              " 'haven': 12728,\n",
              " 'decided': 7049,\n",
              " 'rene': 23514,\n",
              " 'wanna': 31015,\n",
              " 'show': 25639,\n",
              " 'finished': 10361,\n",
              " 'telling': 28379,\n",
              " 'bad': 1878,\n",
              " 'pant': 20470,\n",
              " 'chief': 4778,\n",
              " 'cleared': 5102,\n",
              " 'four': 10860,\n",
              " 'floor': 10563,\n",
              " 'sign': 25779,\n",
              " 'whose': 31481,\n",
              " 'camper': 4044,\n",
              " 'tore': 29037,\n",
              " 'bus': 3800,\n",
              " 'sample': 24582,\n",
              " 'national': 18963,\n",
              " 'criminal': 6457,\n",
              " 'sperm': 26751,\n",
              " 'bank': 2021,\n",
              " 'genetic': 11456,\n",
              " 'match': 17482,\n",
              " 'father': 10048,\n",
              " 'whacking': 31310,\n",
              " 'cavity': 4412,\n",
              " 'search': 25035,\n",
              " 'unit': 30031,\n",
              " 'flaw': 10502,\n",
              " 'casing': 4303,\n",
              " 'hit': 13165,\n",
              " 'hard': 12599,\n",
              " 'enough': 9212,\n",
              " 'break': 3367,\n",
              " 'releasing': 23414,\n",
              " 'virus': 30765,\n",
              " 'sir': 25904,\n",
              " 'roll': 24151,\n",
              " 'tape': 28206,\n",
              " 'new': 19154,\n",
              " 'biological': 2698,\n",
              " 'weapon': 31174,\n",
              " 'manmade': 17238,\n",
              " 'cut': 6702,\n",
              " 'power': 21832,\n",
              " 'necessary': 19026,\n",
              " 'elevator': 8938,\n",
              " 'security': 25080,\n",
              " 'cam': 4014,\n",
              " 'witness': 31694,\n",
              " 'found': 10853,\n",
              " 'teenager': 28341,\n",
              " 'dallas': 6790,\n",
              " 'room': 24196,\n",
              " 'shortly': 25611,\n",
              " 'before': 2357,\n",
              " 'arrived': 1389,\n",
              " 'legally': 16135,\n",
              " 'hold': 13242,\n",
              " 'hour': 13483,\n",
              " 'bothered': 3212,\n",
              " 'paramedic': 20517,\n",
              " 'investigator': 14669,\n",
              " 'halloran': 12462,\n",
              " 'goetz': 11811,\n",
              " 'apologize': 1149,\n",
              " 'firehouse': 10386,\n",
              " 'friday': 11022,\n",
              " 'delivery': 7248,\n",
              " 'peter': 21053,\n",
              " 'kurten': 15745,\n",
              " 'daryll': 6902,\n",
              " 'lee': 16114,\n",
              " 'cullum': 6621,\n",
              " 'phone': 21138,\n",
              " 'number': 19535,\n",
              " 'had': 12390,\n",
              " 'listen': 16476,\n",
              " 'felony': 10158,\n",
              " 'sixteen': 25942,\n",
              " 'jail': 14865,\n",
              " 'rest': 23730,\n",
              " 'parole': 20575,\n",
              " 'forgotten': 10799,\n",
              " 'shut': 25700,\n",
              " 'breaking': 3375,\n",
              " 'entering': 9241,\n",
              " 'burglary': 3760,\n",
              " 'felonious': 10157,\n",
              " 'crap': 6361,\n",
              " 'sheet': 25441,\n",
              " 'length': 16178,\n",
              " 'arm': 1341,\n",
              " 'inspector': 14439,\n",
              " 'homicide': 13295,\n",
              " 'supposed': 27799,\n",
              " 'contact': 5918,\n",
              " 'damn': 6809,\n",
              " 'self': 25150,\n",
              " 'righteous': 23972,\n",
              " 'drunk': 8504,\n",
              " 'helen': 12913,\n",
              " 'die': 7652,\n",
              " 'burning': 3781,\n",
              " 'basement': 2139,\n",
              " 'stair': 27016,\n",
              " 'reached': 22974,\n",
              " 'ahead': 527,\n",
              " 'son': 26491,\n",
              " 'bitch': 2734,\n",
              " 'leave': 16087,\n",
              " 'knock': 15610,\n",
              " 'sheep': 25437,\n",
              " 'working': 31795,\n",
              " 'quinn': 22662,\n",
              " 'coffee': 5321,\n",
              " 'bundy': 3722,\n",
              " 'order': 19990,\n",
              " 'desalvo': 7418,\n",
              " 'bianchi': 2611,\n",
              " 'buono': 3739,\n",
              " 'berkowitz': 2524,\n",
              " 'dahmer': 6770,\n",
              " 'which': 31395,\n",
              " 'kill': 15479,\n",
              " 'checked': 4671,\n",
              " 'record': 23156,\n",
              " 'signed': 25785,\n",
              " 'john': 15090,\n",
              " 'clean': 5089,\n",
              " 'mess': 17862,\n",
              " 'boy': 3268,\n",
              " 'christmas': 4910,\n",
              " 'happiest': 12582,\n",
              " 'six': 25936,\n",
              " 'love': 16758,\n",
              " 'married': 17385,\n",
              " 'men': 17775,\n",
              " 'marriage': 17384,\n",
              " 'bed': 2314,\n",
              " 'crowded': 6532,\n",
              " 'noisy': 19353,\n",
              " 'unprofessional': 30121,\n",
              " 'both': 3210,\n",
              " 'ruben': 24332,\n",
              " 'stupid': 27528,\n",
              " 'cop': 6076,\n",
              " 'buncha': 3716,\n",
              " 'dumb': 8577,\n",
              " 'fan': 9966,\n",
              " 'letter': 16227,\n",
              " 'also': 768,\n",
              " 'major': 17113,\n",
              " 'piece': 21213,\n",
              " 'evidence': 9543,\n",
              " 'key': 15416,\n",
              " 'part': 20586,\n",
              " 'plan': 21389,\n",
              " 'anymore': 1108,\n",
              " 'boston': 3203,\n",
              " 'strangler': 27380,\n",
              " 'copycat': 6092,\n",
              " 'serial': 25248,\n",
              " 'killer': 15482,\n",
              " 'hillside': 13114,\n",
              " 'strang': 27373,\n",
              " 'ler': 16203,\n",
              " 'sam': 24569,\n",
              " 'lead': 16045,\n",
              " 'end': 9133,\n",
              " 'imitating': 13923,\n",
              " 'each': 8680,\n",
              " 'method': 17897,\n",
              " 'closely': 5200,\n",
              " 'detail': 7497,\n",
              " 'injecting': 14357,\n",
              " 'windex': 31589,\n",
              " 'using': 30339,\n",
              " 'playing': 21444,\n",
              " 'abba': 34,\n",
              " 'as': 1438,\n",
              " 'line': 16423,\n",
              " 'giving': 11668,\n",
              " 'send': 25180,\n",
              " 'regard': 23308,\n",
              " 'bureau': 3748,\n",
              " 'highest': 13080,\n",
              " 'esteem': 9440,\n",
              " 'banged': 2010,\n",
              " 'siren': 25907,\n",
              " 'hang': 12547,\n",
              " 'mouth': 18625,\n",
              " 'susan': 27862,\n",
              " 'schiffer': 24821,\n",
              " 'clint': 5167,\n",
              " 'outside': 20173,\n",
              " 'afraid': 450,\n",
              " 'trip': 29397,\n",
              " 'injected': 14356,\n",
              " 'switch': 27986,\n",
              " 'sake': 24521,\n",
              " 'window': 31596,\n",
              " 'consistent': 5869,\n",
              " 'changed': 4564,\n",
              " 'style': 27542,\n",
              " 'robot': 24097,\n",
              " 'taken': 28125,\n",
              " 'morning': 18522,\n",
              " 'test': 28497,\n",
              " 'positive': 21756,\n",
              " 'hello': 12927,\n",
              " 'putting': 22554,\n",
              " 'guard': 12247,\n",
              " 'computer': 5643,\n",
              " 'winona': 31625,\n",
              " 'assign': 1512,\n",
              " 'hall': 12453,\n",
              " 'directly': 7778,\n",
              " 'contacted': 5919,\n",
              " 'interest': 14539,\n",
              " 'intense': 14516,\n",
              " 'worried': 31815,\n",
              " 'lose': 16714,\n",
              " 'stir': 27276,\n",
              " 'monster': 18424,\n",
              " 'under': 29854,\n",
              " 'direct': 7773,\n",
              " 'trap': 29255,\n",
              " 'turn': 29570,\n",
              " 'internet': 14566,\n",
              " 'somebody': 26469,\n",
              " 'shift': 25500,\n",
              " 'kick': 15442,\n",
              " 'scream': 24942,\n",
              " 'hyperventilate': 13729,\n",
              " 'grab': 11940,\n",
              " 'turned': 29574,\n",
              " 'different': 7673,\n",
              " 'amazing': 819,\n",
              " 'book': 3124,\n",
              " 'shower': 25644,\n",
              " 'hope': 13371,\n",
              " 'nail': 18880,\n",
              " 'spell': 26734,\n",
              " 'case': 4293,\n",
              " 'tv': 29605,\n",
              " 'news': 19170,\n",
              " 'festival': 10213,\n",
              " 'sense': 25193,\n",
              " 'real': 22995,\n",
              " 'infected': 14242,\n",
              " 'door': 8250,\n",
              " 'copy': 6091,\n",
              " 'imitate': 13921,\n",
              " 'stocking': 27292,\n",
              " 'october': 19710,\n",
              " 'lecturing': 16106,\n",
              " 'tough': 29089,\n",
              " 'shit': 25531,\n",
              " 'woman': 31726,\n",
              " 'dying': 8665,\n",
              " 'lay': 16018,\n",
              " 'apartment': 1127,\n",
              " 'living': 16528,\n",
              " 'step': 27197,\n",
              " 'project': 22201,\n",
              " 'myself': 18848,\n",
              " 'wading': 30914,\n",
              " 'blood': 2903,\n",
              " 'gut': 12341,\n",
              " 'paid': 20386,\n",
              " 'pretty': 22025,\n",
              " 'admire': 342,\n",
              " 'everything': 9534,\n",
              " 'honor': 13328,\n",
              " 'especially': 9415,\n",
              " 'yours': 32082,\n",
              " 'sugar': 27659,\n",
              " 'mine': 18069,\n",
              " 'absolutely': 103,\n",
              " 'correct': 6155,\n",
              " 'politician': 21601,\n",
              " 'panic': 20461,\n",
              " 'headline': 12776,\n",
              " 'spoiling': 26827,\n",
              " 'called': 3984,\n",
              " 'doctor': 8120,\n",
              " 'hudson': 13549,\n",
              " 'meet': 17716,\n",
              " 'ring': 23998,\n",
              " 'gong': 11839,\n",
              " 'impulse': 14040,\n",
              " 'control': 5988,\n",
              " 'opinion': 19936,\n",
              " 'report': 23584,\n",
              " 'ma': 16943,\n",
              " 'victim': 30658,\n",
              " 'joke': 15106,\n",
              " 'neither': 19081,\n",
              " 'tying': 29667,\n",
              " 'telephone': 28363,\n",
              " 'police': 21586,\n",
              " 'crank': 6355,\n",
              " 'while': 31398,\n",
              " 'trouble': 29439,\n",
              " 'trying': 29501,\n",
              " 'charge': 4598,\n",
              " 'dr': 8365,\n",
              " 'tranquilizer': 29198,\n",
              " 'prescribes': 21977,\n",
              " 'pattern': 20693,\n",
              " 'develop': 7541,\n",
              " 'broke': 3514,\n",
              " 'connected': 5811,\n",
              " 'shook': 25578,\n",
              " 'sooner': 26517,\n",
              " 'touch': 29081,\n",
              " 'mike': 17995,\n",
              " 'doorknob': 8252,\n",
              " 'print': 22084,\n",
              " 'forgot': 10798,\n",
              " 'officer': 19757,\n",
              " 'horseshit': 13427,\n",
              " 'luck': 16827,\n",
              " 'terrible': 28474,\n",
              " 'nikko': 19270,\n",
              " 'dump': 8587,\n",
              " 'site': 25925,\n",
              " 'cute': 6705,\n",
              " 'mad': 17000,\n",
              " 'worked': 31790,\n",
              " 'marine': 17343,\n",
              " 'grunt': 12235,\n",
              " 'outranked': 20166,\n",
              " 'none': 19374,\n",
              " 'business': 3809,\n",
              " 'conrad': 5831,\n",
              " 'wind': 31585,\n",
              " 'interrogate': 14574,\n",
              " 'burglar': 3758,\n",
              " 'excuse': 9627,\n",
              " 'bunch': 3715,\n",
              " 'swedish': 27939,\n",
              " 'young': 32074,\n",
              " 'unstable': 30190,\n",
              " 'harassment': 12592,\n",
              " 'horny': 13404,\n",
              " 'implicated': 13987,\n",
              " 'practically': 21847,\n",
              " 'inside': 14413,\n",
              " 'cast': 4317,\n",
              " 'footprint': 10718,\n",
              " 'ought': 20103,\n",
              " 'leg': 16130,\n",
              " 'form': 10803,\n",
              " 'task': 28241,\n",
              " 'force': 10732,\n",
              " 'senior': 25185,\n",
              " 'detective': 7505,\n",
              " 'shrink': 25665,\n",
              " 'honest': 13308,\n",
              " 'keep': 15363,\n",
              " 'espresso': 9419,\n",
              " 'machine': 16975,\n",
              " 'library': 16294,\n",
              " 'beef': 2337,\n",
              " 'rube': 24331,\n",
              " 'move': 18634,\n",
              " 'snotty': 26341,\n",
              " 'neurotic': 19136,\n",
              " 'mercer': 17811,\n",
              " 'medical': 17694,\n",
              " 'dental': 7328,\n",
              " 'laundry': 15980,\n",
              " 'dry': 8512,\n",
              " 'cleaning': 5095,\n",
              " ...}"
            ]
          },
          "metadata": {},
          "execution_count": 51
        }
      ]
    },
    {
      "cell_type": "markdown",
      "metadata": {
        "id": "Zz3cOBe7uXAC"
      },
      "source": [
        "#### Finally we'll our data is ready for the Machine Learning Algorithm to be trained on. We will use two models, namely:\n",
        "\n",
        "* Logistic Regression\n",
        "* Naive Bayes\n",
        "\n",
        "#### We will generate predictions and guage how well it performed on the data and interpret it."
      ]
    },
    {
      "cell_type": "markdown",
      "metadata": {
        "id": "LHabkazI6ABQ"
      },
      "source": [
        "# Model 1: Logistic regression\n",
        "\n",
        "#### The Logistic regression algorithm is used in binary classificaton problems (like this one, where the response variable: \"gender\" can male or female). \n",
        "\n",
        "## A brief description:\n",
        "\n",
        "#### Abstracting away the mathematical details, the model predicts a value based on certain predictor variables, then transforms the value in a way that the output always lies in the range [0,1]. If the transformed value is greater than a predetermined threshold value (usually 0.5), then the value is taken as 1, otherwise it is taken as 0. \n",
        "\n",
        "![image.png](data:image/png;base64,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)\n",
        "\n",
        "#### Given above is the sigmoid function, which is the function that transforms the initially predicted value (x) to a value constrained within the range [0,1].\n",
        "\n",
        "\n",
        "#### Let us import the class from the sklearn linear_model module. Then we instantiate an object of the class. "
      ]
    },
    {
      "cell_type": "code",
      "metadata": {
        "id": "EUVDlx5jrwbx"
      },
      "source": [
        "from sklearn.linear_model import LogisticRegression   # import Logisticregression class from the sklearn linear_model module"
      ],
      "execution_count": 52,
      "outputs": []
    },
    {
      "cell_type": "code",
      "metadata": {
        "id": "vVhG-0BhtGXH"
      },
      "source": [
        "log_reg = LogisticRegression()      # instantiate a LogisticRegression object"
      ],
      "execution_count": 53,
      "outputs": []
    },
    {
      "cell_type": "markdown",
      "metadata": {
        "id": "dXV14APaQWk7"
      },
      "source": [
        "#### Now we call the fit() method on the training data. This is the step where the model actually \"learns\" from the data.  \n",
        "\n",
        "#### Notice how we are passing both the predictor and response variables (X_train_transformed and y_train) to the fit method. In essence, any machine learning model has a set of internal parameters that are optimised in way that the model can make the best predictions.The response variable is shown to the model so that it can update those parameters. "
      ]
    },
    {
      "cell_type": "code",
      "metadata": {
        "colab": {
          "base_uri": "https://localhost:8080/"
        },
        "id": "MewrQ-3675LW",
        "outputId": "cfe25316-8aca-49c6-c667-8449601e7cb7"
      },
      "source": [
        "log_reg.fit(X_train_transformed,y_train)    # fit the model to the training partitions"
      ],
      "execution_count": 54,
      "outputs": [
        {
          "output_type": "execute_result",
          "data": {
            "text/plain": [
              "LogisticRegression(C=1.0, class_weight=None, dual=False, fit_intercept=True,\n",
              "                   intercept_scaling=1, l1_ratio=None, max_iter=100,\n",
              "                   multi_class='auto', n_jobs=None, penalty='l2',\n",
              "                   random_state=None, solver='lbfgs', tol=0.0001, verbose=0,\n",
              "                   warm_start=False)"
            ]
          },
          "metadata": {},
          "execution_count": 54
        }
      ]
    },
    {
      "cell_type": "markdown",
      "metadata": {
        "id": "9z0GIwkDRCuW"
      },
      "source": [
        "#### With the training part complete, we can now call the predict() method that is usedto make predictions on unseen data, which will be the test data that we created before. We only pass the predictor variable here so that the model can make predictions using those instrinsic learned parameters.   "
      ]
    },
    {
      "cell_type": "code",
      "metadata": {
        "id": "T-oluck19fQo"
      },
      "source": [
        "log_pred = log_reg.predict(X_test_transformed)    # generate predictions using the test partition"
      ],
      "execution_count": 55,
      "outputs": []
    },
    {
      "cell_type": "markdown",
      "metadata": {
        "id": "CqGO3zoPSI2q"
      },
      "source": [
        "## Performance Metrics: checking how well the model performed.\n",
        "\n",
        "#### Now that the model has made some predictions, we need some sort of procedure to check how well it performed. This is where performance metrics come in. \n",
        "\n",
        "#### For each data instance, essentially 4 cases arise. The model predicted both the classes correctly (True Positive and True negative) and ones where it failed to correctly predict the classes (False Positive and False negative). Different performance metrics help us optimise each of these cases.\n",
        "\n",
        "####The most commonly used metrics are:\n",
        "\n",
        "* Accuracy - proportion of all instances correctly classified by the model.   \n",
        "\n",
        "* Precision - proportion of correctly predicted positive cases out of all the \"predicted\" positive cases.\n",
        "\n",
        "* Recall - proportion of correctly predicted cases out of all the \"actual\" positive cases\n",
        "\n",
        "* F1 score - This is a combination of precision and recall (harmonic mean of the two).\n",
        "\n",
        "#### For balanced datasets (data with equal proportion of both classes), accuracy is the appropriate metric to use. \n",
        "\n",
        "#### However with imbalanced data (like ours), accuracy falls apart. The disproportionate abundance of one class over another makes the model biased towards that class. Hence even though accuracy might be high, the model is not able to predict the other class instances correctly.\n",
        "\n",
        "#### It is in such cases that precision and recall come in handy. As a rule of thumb you want to use precision when you care about reducing false positive cases, and recall when you want to reduce false negative cases in your data.\n",
        "\n",
        "#### Lastly, there are cases where both false psitives and false negatives need to be reduced. The f1 score letsis a suitable metric to achieve that. In our case, we have an imbalanced dataset where both false positives and negatives matter. Hence the F1 score is an appropriate metric for our usecase."
      ]
    },
    {
      "cell_type": "markdown",
      "metadata": {
        "id": "X86aLB6EX1Lg"
      },
      "source": [
        "## Confusion Matrix and Classification Report\n",
        "\n",
        "#### The confusion matrix is a useful matrix that shows us a condensed summary of the 4 cases we discussed earlier. An illustration is shown below:\n",
        "![image.png](data:image/png;base64,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)\n",
        "\n",
        "#### Classification report is a more verbose representation of results we obtain from our model. It provides the same information as the matrix but provides a bit more clarity, as it explicitly mentions all the key metrics and quantifies the model's performance.\n",
        "\n",
        "\n",
        "#### BOth the confusion matrix and the classification report is available in the sklearn.metrics module."
      ]
    },
    {
      "cell_type": "code",
      "metadata": {
        "id": "Dzpj9CbdAx46"
      },
      "source": [
        "from sklearn.metrics import classification_report, confusion_matrix   # import metrics"
      ],
      "execution_count": 56,
      "outputs": []
    },
    {
      "cell_type": "markdown",
      "metadata": {
        "id": "Q_xXmhI5Z2yN"
      },
      "source": [
        "#### Note: The support column in the classification report denotes the number of classes in each category, in this case \"male\" and \"female\"."
      ]
    },
    {
      "cell_type": "code",
      "metadata": {
        "colab": {
          "base_uri": "https://localhost:8080/"
        },
        "id": "wivMfZpsL8RN",
        "outputId": "bd9fd02d-abdb-4a6b-a892-5db371f8ed3a"
      },
      "source": [
        "print(\"Confusion matrix: \\n\",confusion_matrix(y_test,log_pred))\n",
        "print(\"Classification report: \\n\",classification_report(y_test,log_pred))"
      ],
      "execution_count": 57,
      "outputs": [
        {
          "output_type": "stream",
          "name": "stdout",
          "text": [
            "Confusion matrix: \n",
            " [[261   7]\n",
            " [ 92  31]]\n",
            "Classification report: \n",
            "               precision    recall  f1-score   support\n",
            "\n",
            "           0       0.74      0.97      0.84       268\n",
            "           1       0.82      0.25      0.39       123\n",
            "\n",
            "    accuracy                           0.75       391\n",
            "   macro avg       0.78      0.61      0.61       391\n",
            "weighted avg       0.76      0.75      0.70       391\n",
            "\n"
          ]
        }
      ]
    },
    {
      "cell_type": "markdown",
      "metadata": {
        "id": "gkaSTPhFaJji"
      },
      "source": [
        "#### The logistic regression model gives an accuracy of 75%, precision of 74%, recall = 97% and f1 score of 84%. These kind of discrepancy between the metrics suggests that the data is imbalanced, and the model is biased towards one of the classes, which is true in our case.\n",
        " "
      ]
    },
    {
      "cell_type": "markdown",
      "metadata": {
        "id": "6EbZ9U8PatZo"
      },
      "source": [
        "## Naive Bayes:\n",
        "\n",
        "#### The Naive Bayes algorithm has its roots in probability theory, and is based on the the Bayes theorem, which is one of the most fundamental parts of probability as a subject. Essentially it lets us update our beliefs by having prior knowledge about an event.\n",
        "\n",
        "#### The naive bayes classifier does not really learn anything about the data, but operates on top of the probabilities and proportions generated by the data. It also makes a really bold assumption (predictor variables are \"conditionally independent\" from each other), which is rarely the case in reality. Still it performs really well over problems like text classification or even sentiment analysis. \n",
        "\n",
        "\n",
        "#### We can implement naivebayes classifier by using the MultinomialNB class from the naive_bayes module."
      ]
    },
    {
      "cell_type": "code",
      "metadata": {
        "id": "agQCYEamMFsj"
      },
      "source": [
        "from sklearn.naive_bayes import BernoulliNB   # import MultinomialNB class "
      ],
      "execution_count": 58,
      "outputs": []
    },
    {
      "cell_type": "markdown",
      "metadata": {
        "id": "kHNQHhfppr2Q"
      },
      "source": [
        "#### Now we will follow steps similar to what we did in logistic regression. Instantiate an object, fit the training data and then make predictions on the test data.  There are 3 main types of naive bayes algorithms, the BernoulliNB, the GaussianNB and the MultinomialNB. Each are based on an underlying probability distribution, and are suitable for specific usecases.\n",
        "\n",
        "#### In our case, we will work with the BernoulliNB."
      ]
    },
    {
      "cell_type": "code",
      "metadata": {
        "id": "jyelCpMHp5W1"
      },
      "source": [
        "nb = BernoulliNB()    # instantiate BernoulliNB object"
      ],
      "execution_count": 59,
      "outputs": []
    },
    {
      "cell_type": "code",
      "metadata": {
        "colab": {
          "base_uri": "https://localhost:8080/"
        },
        "id": "4LqYJwC8qDRa",
        "outputId": "ef8c691b-a013-426e-c3d7-9f8e1683b6c8"
      },
      "source": [
        "nb.fit(X_train_transformed,y_train)   # fit to the training set"
      ],
      "execution_count": 60,
      "outputs": [
        {
          "output_type": "execute_result",
          "data": {
            "text/plain": [
              "BernoulliNB(alpha=1.0, binarize=0.0, class_prior=None, fit_prior=True)"
            ]
          },
          "metadata": {},
          "execution_count": 60
        }
      ]
    },
    {
      "cell_type": "code",
      "metadata": {
        "id": "ObOQbqcOqIw1"
      },
      "source": [
        "nb_pred = nb.predict(X_test_transformed)    # generate predictions on the test set "
      ],
      "execution_count": 61,
      "outputs": []
    },
    {
      "cell_type": "markdown",
      "metadata": {
        "id": "M3ty4bXCqk_l"
      },
      "source": [
        "#### Once again we generate performance metrics for the Naive Bayes model."
      ]
    },
    {
      "cell_type": "code",
      "metadata": {
        "colab": {
          "base_uri": "https://localhost:8080/"
        },
        "id": "0SzHvRwPqYKa",
        "outputId": "8a895d8f-4bf8-4868-ce80-d70303f51602"
      },
      "source": [
        "print(\"Confusion matrix: \\n\",confusion_matrix(y_test,nb_pred))\n",
        "print(\"Classification report: \\n\",classification_report(y_test,nb_pred))"
      ],
      "execution_count": 62,
      "outputs": [
        {
          "output_type": "stream",
          "name": "stdout",
          "text": [
            "Confusion matrix: \n",
            " [[264   4]\n",
            " [106  17]]\n",
            "Classification report: \n",
            "               precision    recall  f1-score   support\n",
            "\n",
            "           0       0.71      0.99      0.83       268\n",
            "           1       0.81      0.14      0.24       123\n",
            "\n",
            "    accuracy                           0.72       391\n",
            "   macro avg       0.76      0.56      0.53       391\n",
            "weighted avg       0.74      0.72      0.64       391\n",
            "\n"
          ]
        }
      ]
    },
    {
      "cell_type": "markdown",
      "metadata": {
        "id": "8AcJA5vrrMIl"
      },
      "source": [
        "#### We can see that the model has generated pretty good metrics for the \"male\" class, but not so much for the \"female\" class. This is because the model operates on probabilities, and in imbalanced datasets the likelihood of getting the rarer class is very low."
      ]
    },
    {
      "cell_type": "markdown",
      "metadata": {
        "id": "J-7Zg7TUPwlX"
      },
      "source": [
        "## Thus we have used 2 algorithms/models om our data and created a binary text classifier. The metrics can be improved by: \n",
        "\n",
        "* Using more data. We can do this by manually imputing the gender values based on their corresponing character_names. This will not only provide us more data but also alleviate the imbalanced dataset problem by having equal proportion of data instances in each class.\n",
        "\n",
        "* Trying out other classifiers: There are a plethora of classifiers out there to choose from like Decision Trees, Support Vector Machines etc. It is difficult to say which model will perform the best on our data, so there is a lot of trial and error and experimentation associated with a machine learning project."
      ]
    }
  ]
}